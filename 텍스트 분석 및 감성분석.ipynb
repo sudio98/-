{
  "nbformat": 4,
  "nbformat_minor": 0,
  "metadata": {
    "colab": {
      "provenance": []
    },
    "kernelspec": {
      "name": "python3",
      "display_name": "Python 3"
    },
    "language_info": {
      "name": "python"
    }
  },
  "cells": [
    {
      "cell_type": "markdown",
      "source": [
        "# 🔖Google COLAB Mounting\n",
        "* 아래 코드는 Google COLAB에서 Drive에 접근하기 위해 필요한 코드로, local에서 코드를 돌릴 때는 필요하지 않은 코드입니다. (애초에 돌아가지 않습니다.)\n",
        "* 코드를 돌린 뒤 사용허가 창이 뜨면 전부 '확인'하고 넘어가시면 됩니다."
      ],
      "metadata": {
        "id": "SP1enDba3g4l"
      }
    },
    {
      "cell_type": "code",
      "source": [
        "from google.colab import drive\n",
        "drive.mount(\"/content/drive\")"
      ],
      "metadata": {
        "colab": {
          "base_uri": "https://localhost:8080/"
        },
        "id": "4dnwsb5y3QIc",
        "outputId": "df0f9fea-79c0-45d0-ce89-6df2cb6c1962"
      },
      "execution_count": 96,
      "outputs": [
        {
          "output_type": "stream",
          "name": "stdout",
          "text": [
            "Drive already mounted at /content/drive; to attempt to forcibly remount, call drive.mount(\"/content/drive\", force_remount=True).\n"
          ]
        }
      ]
    },
    {
      "cell_type": "markdown",
      "source": [
        "# 🔖1. Import Dataset & Check Variables"
      ],
      "metadata": {
        "id": "Ro2Lavnq3ERM"
      }
    },
    {
      "cell_type": "markdown",
      "source": [
        "## 1.1 Directory Setting"
      ],
      "metadata": {
        "id": "f_fMj6vD6SaX"
      }
    },
    {
      "cell_type": "code",
      "source": [
        "path_load = \"/content/drive/My Drive/12/\"\n",
        "# 데이터 파일이 저장된 경로를 입력해 주세요. (본인이 데이터를 저장한 경로로 입력해야 합니다.)\n",
        "# Google Drive 내에 있는 폴더라면 \"/content/drive/My Drive/\" 뒤에 폴더 경로를 적어야 합니다."
      ],
      "metadata": {
        "id": "2u88VUxA4EKz"
      },
      "execution_count": 97,
      "outputs": []
    },
    {
      "cell_type": "code",
      "execution_count": 98,
      "metadata": {
        "id": "JKwIQMB82lEW"
      },
      "outputs": [],
      "source": [
        "import os\n",
        "os.chdir(path_load)"
      ]
    },
    {
      "cell_type": "markdown",
      "source": [
        "## 1.2 Import CSV File\n",
        "* 한글 파일을 불러올 때 글자가 깨져 보이거나 encoding 관련 에러 메시지가 뜰 경우 encoding=\"cp949\" 설정을 \"utf-8\" 혹은 \"euc-kr\"로 바꿔 보세요.\n",
        "* 자세한 내용은 올려드린 \"Manual - 한글 텍스트 파일 데이터 깨질 경우 해결책.docx\"을 참고하시면 됩니다."
      ],
      "metadata": {
        "id": "imaFvZcF6VJz"
      }
    },
    {
      "cell_type": "code",
      "source": [
        "import pandas as pd\n",
        "data = pd.read_csv(\"samsung.csv\", encoding=\"utf-8\")"
      ],
      "metadata": {
        "id": "Hf9ZYrpi3J_S"
      },
      "execution_count": 99,
      "outputs": []
    },
    {
      "cell_type": "code",
      "source": [
        "data.head(3)"
      ],
      "metadata": {
        "colab": {
          "base_uri": "https://localhost:8080/",
          "height": 490
        },
        "id": "WEHfF8xklHGB",
        "outputId": "bf423c66-a731-4550-f313-57478f3fc0c6"
      },
      "execution_count": 100,
      "outputs": [
        {
          "output_type": "execute_result",
          "data": {
            "text/plain": [
              "             id  rate_date     언론사                               기고자  \\\n",
              "0  7.101201e+06   20240602  디지털타임스                               김나인   \n",
              "1  1.010010e+07   20240602   스포츠서울                            표권향 기자   \n",
              "2  4.100958e+06   20240602     EBN  EBN 이남석 기자 (leens0319@ebn.co.kr)   \n",
              "\n",
              "                                        rate_comment     통합 분류1      통합 분류2  \\\n",
              "0          삼성전자, `AI폰` 시장 장악에 폴더블폰 주춤? `갤Z6`로 반전 꾀할까  IT_과학>모바일       경제>유통   \n",
              "1  “오늘은 AI 요리사” 삼성전자, 인덕션 식기세척기 구매 혜택 ‘인 식바꿈’ 프로모...  IT_과학>모바일   경제>서비스_쇼핑   \n",
              "2               “AI로 편하게 요리하자” 삼성전자, ‘인 식바꿈’ 프로모션 실시  IT_과학>모바일   경제>서비스_쇼핑   \n",
              "\n",
              "       통합 분류3 사건/사고 분류1 사건/사고 분류2 사건/사고 분류3              인물  \\\n",
              "0   IT_과학>콘텐츠       NaN       NaN       NaN  블룸버그인텔리전스,블룸버그   \n",
              "1      경제>반도체       NaN       NaN       NaN             NaN   \n",
              "2    경제>산업_기업       NaN       NaN       NaN             NaN   \n",
              "\n",
              "                    위치                                   기관  \\\n",
              "0  중국,장악,인터내셔널데이터코퍼레이션  샤오미,애플,중국,BI,샤오미14,삼성전자,모토로라,화웨이,삼성   \n",
              "1                   화력                      유일,삼성닷컴,삼성전자,삼성   \n",
              "2                   화력              유일,세척기삼성전자,삼성닷컴,삼성전자,삼성   \n",
              "\n",
              "                                                 키워드  \\\n",
              "0  삼성전자,AI폰,시장,장악,폴더블폰,반전,삼성전자,출시,S24,시리즈,생성,인공,지...   \n",
              "1  AI,요리사,삼성전자,인덕션,식기세척기,식바꿈,구매,혜택,프로모션,진행,삼성전자,이...   \n",
              "2  AI,요리,삼성전자,식바꿈,프로모션,인덕션,식기,세척기,교체,요리,시작,걱정,AI,...   \n",
              "\n",
              "                                   특성추출(가중치순 상위 50개)  \\\n",
              "0  스마트폰,폴더블폰,생성형,삼성전자,점유율,폴더블,ai,중국,화웨이,카운터포인트리서치...   \n",
              "1  인덕션,ai,비스포크,삼성전자,세척기,식기세척기,소비자,식바꿈,500만,시니어,인피...   \n",
              "2  인덕션,비스포크,세척기,삼성전자,ai,소비자,식바꿈,식기세척기,신혼여행,오염도,삼성...   \n",
              "\n",
              "                                                  본문  \\\n",
              "0  삼성전자가 올 초 출시한 '갤럭시S24' 시리즈로 생성형 인공지능(AI) 지원 스마...   \n",
              "1  삼성전자가 이달 1일부터 9월30일까지 AI 인덕션 및 식기세척기를 풍성한 혜택과 ...   \n",
              "2  인덕션, 식기세척기 교체로 요리 시작부터 끝까지 편하게 \\n넘침 걱정 없는 AI 끓...   \n",
              "\n",
              "                                                 URL 분석제외 여부  \n",
              "0  http://www.dt.co.kr/contents.html?article_no=2...     NaN  \n",
              "1      https://www.sportsseoul.com/news/read/1434093     NaN  \n",
              "2                                                NaN     NaN  "
            ],
            "text/html": [
              "\n",
              "  <div id=\"df-1a1c35fb-8342-413d-a5d6-b9ee45aa092f\" class=\"colab-df-container\">\n",
              "    <div>\n",
              "<style scoped>\n",
              "    .dataframe tbody tr th:only-of-type {\n",
              "        vertical-align: middle;\n",
              "    }\n",
              "\n",
              "    .dataframe tbody tr th {\n",
              "        vertical-align: top;\n",
              "    }\n",
              "\n",
              "    .dataframe thead th {\n",
              "        text-align: right;\n",
              "    }\n",
              "</style>\n",
              "<table border=\"1\" class=\"dataframe\">\n",
              "  <thead>\n",
              "    <tr style=\"text-align: right;\">\n",
              "      <th></th>\n",
              "      <th>id</th>\n",
              "      <th>rate_date</th>\n",
              "      <th>언론사</th>\n",
              "      <th>기고자</th>\n",
              "      <th>rate_comment</th>\n",
              "      <th>통합 분류1</th>\n",
              "      <th>통합 분류2</th>\n",
              "      <th>통합 분류3</th>\n",
              "      <th>사건/사고 분류1</th>\n",
              "      <th>사건/사고 분류2</th>\n",
              "      <th>사건/사고 분류3</th>\n",
              "      <th>인물</th>\n",
              "      <th>위치</th>\n",
              "      <th>기관</th>\n",
              "      <th>키워드</th>\n",
              "      <th>특성추출(가중치순 상위 50개)</th>\n",
              "      <th>본문</th>\n",
              "      <th>URL</th>\n",
              "      <th>분석제외 여부</th>\n",
              "    </tr>\n",
              "  </thead>\n",
              "  <tbody>\n",
              "    <tr>\n",
              "      <th>0</th>\n",
              "      <td>7.101201e+06</td>\n",
              "      <td>20240602</td>\n",
              "      <td>디지털타임스</td>\n",
              "      <td>김나인</td>\n",
              "      <td>삼성전자, `AI폰` 시장 장악에 폴더블폰 주춤? `갤Z6`로 반전 꾀할까</td>\n",
              "      <td>IT_과학&gt;모바일</td>\n",
              "      <td>경제&gt;유통</td>\n",
              "      <td>IT_과학&gt;콘텐츠</td>\n",
              "      <td>NaN</td>\n",
              "      <td>NaN</td>\n",
              "      <td>NaN</td>\n",
              "      <td>블룸버그인텔리전스,블룸버그</td>\n",
              "      <td>중국,장악,인터내셔널데이터코퍼레이션</td>\n",
              "      <td>샤오미,애플,중국,BI,샤오미14,삼성전자,모토로라,화웨이,삼성</td>\n",
              "      <td>삼성전자,AI폰,시장,장악,폴더블폰,반전,삼성전자,출시,S24,시리즈,생성,인공,지...</td>\n",
              "      <td>스마트폰,폴더블폰,생성형,삼성전자,점유율,폴더블,ai,중국,화웨이,카운터포인트리서치...</td>\n",
              "      <td>삼성전자가 올 초 출시한 '갤럭시S24' 시리즈로 생성형 인공지능(AI) 지원 스마...</td>\n",
              "      <td>http://www.dt.co.kr/contents.html?article_no=2...</td>\n",
              "      <td>NaN</td>\n",
              "    </tr>\n",
              "    <tr>\n",
              "      <th>1</th>\n",
              "      <td>1.010010e+07</td>\n",
              "      <td>20240602</td>\n",
              "      <td>스포츠서울</td>\n",
              "      <td>표권향 기자</td>\n",
              "      <td>“오늘은 AI 요리사” 삼성전자, 인덕션 식기세척기 구매 혜택 ‘인 식바꿈’ 프로모...</td>\n",
              "      <td>IT_과학&gt;모바일</td>\n",
              "      <td>경제&gt;서비스_쇼핑</td>\n",
              "      <td>경제&gt;반도체</td>\n",
              "      <td>NaN</td>\n",
              "      <td>NaN</td>\n",
              "      <td>NaN</td>\n",
              "      <td>NaN</td>\n",
              "      <td>화력</td>\n",
              "      <td>유일,삼성닷컴,삼성전자,삼성</td>\n",
              "      <td>AI,요리사,삼성전자,인덕션,식기세척기,식바꿈,구매,혜택,프로모션,진행,삼성전자,이...</td>\n",
              "      <td>인덕션,ai,비스포크,삼성전자,세척기,식기세척기,소비자,식바꿈,500만,시니어,인피...</td>\n",
              "      <td>삼성전자가 이달 1일부터 9월30일까지 AI 인덕션 및 식기세척기를 풍성한 혜택과 ...</td>\n",
              "      <td>https://www.sportsseoul.com/news/read/1434093</td>\n",
              "      <td>NaN</td>\n",
              "    </tr>\n",
              "    <tr>\n",
              "      <th>2</th>\n",
              "      <td>4.100958e+06</td>\n",
              "      <td>20240602</td>\n",
              "      <td>EBN</td>\n",
              "      <td>EBN 이남석 기자 (leens0319@ebn.co.kr)</td>\n",
              "      <td>“AI로 편하게 요리하자” 삼성전자, ‘인 식바꿈’ 프로모션 실시</td>\n",
              "      <td>IT_과학&gt;모바일</td>\n",
              "      <td>경제&gt;서비스_쇼핑</td>\n",
              "      <td>경제&gt;산업_기업</td>\n",
              "      <td>NaN</td>\n",
              "      <td>NaN</td>\n",
              "      <td>NaN</td>\n",
              "      <td>NaN</td>\n",
              "      <td>화력</td>\n",
              "      <td>유일,세척기삼성전자,삼성닷컴,삼성전자,삼성</td>\n",
              "      <td>AI,요리,삼성전자,식바꿈,프로모션,인덕션,식기,세척기,교체,요리,시작,걱정,AI,...</td>\n",
              "      <td>인덕션,비스포크,세척기,삼성전자,ai,소비자,식바꿈,식기세척기,신혼여행,오염도,삼성...</td>\n",
              "      <td>인덕션, 식기세척기 교체로 요리 시작부터 끝까지 편하게 \\n넘침 걱정 없는 AI 끓...</td>\n",
              "      <td>NaN</td>\n",
              "      <td>NaN</td>\n",
              "    </tr>\n",
              "  </tbody>\n",
              "</table>\n",
              "</div>\n",
              "    <div class=\"colab-df-buttons\">\n",
              "\n",
              "  <div class=\"colab-df-container\">\n",
              "    <button class=\"colab-df-convert\" onclick=\"convertToInteractive('df-1a1c35fb-8342-413d-a5d6-b9ee45aa092f')\"\n",
              "            title=\"Convert this dataframe to an interactive table.\"\n",
              "            style=\"display:none;\">\n",
              "\n",
              "  <svg xmlns=\"http://www.w3.org/2000/svg\" height=\"24px\" viewBox=\"0 -960 960 960\">\n",
              "    <path d=\"M120-120v-720h720v720H120Zm60-500h600v-160H180v160Zm220 220h160v-160H400v160Zm0 220h160v-160H400v160ZM180-400h160v-160H180v160Zm440 0h160v-160H620v160ZM180-180h160v-160H180v160Zm440 0h160v-160H620v160Z\"/>\n",
              "  </svg>\n",
              "    </button>\n",
              "\n",
              "  <style>\n",
              "    .colab-df-container {\n",
              "      display:flex;\n",
              "      gap: 12px;\n",
              "    }\n",
              "\n",
              "    .colab-df-convert {\n",
              "      background-color: #E8F0FE;\n",
              "      border: none;\n",
              "      border-radius: 50%;\n",
              "      cursor: pointer;\n",
              "      display: none;\n",
              "      fill: #1967D2;\n",
              "      height: 32px;\n",
              "      padding: 0 0 0 0;\n",
              "      width: 32px;\n",
              "    }\n",
              "\n",
              "    .colab-df-convert:hover {\n",
              "      background-color: #E2EBFA;\n",
              "      box-shadow: 0px 1px 2px rgba(60, 64, 67, 0.3), 0px 1px 3px 1px rgba(60, 64, 67, 0.15);\n",
              "      fill: #174EA6;\n",
              "    }\n",
              "\n",
              "    .colab-df-buttons div {\n",
              "      margin-bottom: 4px;\n",
              "    }\n",
              "\n",
              "    [theme=dark] .colab-df-convert {\n",
              "      background-color: #3B4455;\n",
              "      fill: #D2E3FC;\n",
              "    }\n",
              "\n",
              "    [theme=dark] .colab-df-convert:hover {\n",
              "      background-color: #434B5C;\n",
              "      box-shadow: 0px 1px 3px 1px rgba(0, 0, 0, 0.15);\n",
              "      filter: drop-shadow(0px 1px 2px rgba(0, 0, 0, 0.3));\n",
              "      fill: #FFFFFF;\n",
              "    }\n",
              "  </style>\n",
              "\n",
              "    <script>\n",
              "      const buttonEl =\n",
              "        document.querySelector('#df-1a1c35fb-8342-413d-a5d6-b9ee45aa092f button.colab-df-convert');\n",
              "      buttonEl.style.display =\n",
              "        google.colab.kernel.accessAllowed ? 'block' : 'none';\n",
              "\n",
              "      async function convertToInteractive(key) {\n",
              "        const element = document.querySelector('#df-1a1c35fb-8342-413d-a5d6-b9ee45aa092f');\n",
              "        const dataTable =\n",
              "          await google.colab.kernel.invokeFunction('convertToInteractive',\n",
              "                                                    [key], {});\n",
              "        if (!dataTable) return;\n",
              "\n",
              "        const docLinkHtml = 'Like what you see? Visit the ' +\n",
              "          '<a target=\"_blank\" href=https://colab.research.google.com/notebooks/data_table.ipynb>data table notebook</a>'\n",
              "          + ' to learn more about interactive tables.';\n",
              "        element.innerHTML = '';\n",
              "        dataTable['output_type'] = 'display_data';\n",
              "        await google.colab.output.renderOutput(dataTable, element);\n",
              "        const docLink = document.createElement('div');\n",
              "        docLink.innerHTML = docLinkHtml;\n",
              "        element.appendChild(docLink);\n",
              "      }\n",
              "    </script>\n",
              "  </div>\n",
              "\n",
              "\n",
              "<div id=\"df-4ae6a6df-c30d-4081-94bc-4ca6a5a68871\">\n",
              "  <button class=\"colab-df-quickchart\" onclick=\"quickchart('df-4ae6a6df-c30d-4081-94bc-4ca6a5a68871')\"\n",
              "            title=\"Suggest charts\"\n",
              "            style=\"display:none;\">\n",
              "\n",
              "<svg xmlns=\"http://www.w3.org/2000/svg\" height=\"24px\"viewBox=\"0 0 24 24\"\n",
              "     width=\"24px\">\n",
              "    <g>\n",
              "        <path d=\"M19 3H5c-1.1 0-2 .9-2 2v14c0 1.1.9 2 2 2h14c1.1 0 2-.9 2-2V5c0-1.1-.9-2-2-2zM9 17H7v-7h2v7zm4 0h-2V7h2v10zm4 0h-2v-4h2v4z\"/>\n",
              "    </g>\n",
              "</svg>\n",
              "  </button>\n",
              "\n",
              "<style>\n",
              "  .colab-df-quickchart {\n",
              "      --bg-color: #E8F0FE;\n",
              "      --fill-color: #1967D2;\n",
              "      --hover-bg-color: #E2EBFA;\n",
              "      --hover-fill-color: #174EA6;\n",
              "      --disabled-fill-color: #AAA;\n",
              "      --disabled-bg-color: #DDD;\n",
              "  }\n",
              "\n",
              "  [theme=dark] .colab-df-quickchart {\n",
              "      --bg-color: #3B4455;\n",
              "      --fill-color: #D2E3FC;\n",
              "      --hover-bg-color: #434B5C;\n",
              "      --hover-fill-color: #FFFFFF;\n",
              "      --disabled-bg-color: #3B4455;\n",
              "      --disabled-fill-color: #666;\n",
              "  }\n",
              "\n",
              "  .colab-df-quickchart {\n",
              "    background-color: var(--bg-color);\n",
              "    border: none;\n",
              "    border-radius: 50%;\n",
              "    cursor: pointer;\n",
              "    display: none;\n",
              "    fill: var(--fill-color);\n",
              "    height: 32px;\n",
              "    padding: 0;\n",
              "    width: 32px;\n",
              "  }\n",
              "\n",
              "  .colab-df-quickchart:hover {\n",
              "    background-color: var(--hover-bg-color);\n",
              "    box-shadow: 0 1px 2px rgba(60, 64, 67, 0.3), 0 1px 3px 1px rgba(60, 64, 67, 0.15);\n",
              "    fill: var(--button-hover-fill-color);\n",
              "  }\n",
              "\n",
              "  .colab-df-quickchart-complete:disabled,\n",
              "  .colab-df-quickchart-complete:disabled:hover {\n",
              "    background-color: var(--disabled-bg-color);\n",
              "    fill: var(--disabled-fill-color);\n",
              "    box-shadow: none;\n",
              "  }\n",
              "\n",
              "  .colab-df-spinner {\n",
              "    border: 2px solid var(--fill-color);\n",
              "    border-color: transparent;\n",
              "    border-bottom-color: var(--fill-color);\n",
              "    animation:\n",
              "      spin 1s steps(1) infinite;\n",
              "  }\n",
              "\n",
              "  @keyframes spin {\n",
              "    0% {\n",
              "      border-color: transparent;\n",
              "      border-bottom-color: var(--fill-color);\n",
              "      border-left-color: var(--fill-color);\n",
              "    }\n",
              "    20% {\n",
              "      border-color: transparent;\n",
              "      border-left-color: var(--fill-color);\n",
              "      border-top-color: var(--fill-color);\n",
              "    }\n",
              "    30% {\n",
              "      border-color: transparent;\n",
              "      border-left-color: var(--fill-color);\n",
              "      border-top-color: var(--fill-color);\n",
              "      border-right-color: var(--fill-color);\n",
              "    }\n",
              "    40% {\n",
              "      border-color: transparent;\n",
              "      border-right-color: var(--fill-color);\n",
              "      border-top-color: var(--fill-color);\n",
              "    }\n",
              "    60% {\n",
              "      border-color: transparent;\n",
              "      border-right-color: var(--fill-color);\n",
              "    }\n",
              "    80% {\n",
              "      border-color: transparent;\n",
              "      border-right-color: var(--fill-color);\n",
              "      border-bottom-color: var(--fill-color);\n",
              "    }\n",
              "    90% {\n",
              "      border-color: transparent;\n",
              "      border-bottom-color: var(--fill-color);\n",
              "    }\n",
              "  }\n",
              "</style>\n",
              "\n",
              "  <script>\n",
              "    async function quickchart(key) {\n",
              "      const quickchartButtonEl =\n",
              "        document.querySelector('#' + key + ' button');\n",
              "      quickchartButtonEl.disabled = true;  // To prevent multiple clicks.\n",
              "      quickchartButtonEl.classList.add('colab-df-spinner');\n",
              "      try {\n",
              "        const charts = await google.colab.kernel.invokeFunction(\n",
              "            'suggestCharts', [key], {});\n",
              "      } catch (error) {\n",
              "        console.error('Error during call to suggestCharts:', error);\n",
              "      }\n",
              "      quickchartButtonEl.classList.remove('colab-df-spinner');\n",
              "      quickchartButtonEl.classList.add('colab-df-quickchart-complete');\n",
              "    }\n",
              "    (() => {\n",
              "      let quickchartButtonEl =\n",
              "        document.querySelector('#df-4ae6a6df-c30d-4081-94bc-4ca6a5a68871 button');\n",
              "      quickchartButtonEl.style.display =\n",
              "        google.colab.kernel.accessAllowed ? 'block' : 'none';\n",
              "    })();\n",
              "  </script>\n",
              "</div>\n",
              "\n",
              "    </div>\n",
              "  </div>\n"
            ],
            "application/vnd.google.colaboratory.intrinsic+json": {
              "type": "dataframe",
              "variable_name": "data",
              "summary": "{\n  \"name\": \"data\",\n  \"rows\": 959,\n  \"fields\": [\n    {\n      \"column\": \"id\",\n      \"properties\": {\n        \"dtype\": \"number\",\n        \"std\": 2120194.7312615826,\n        \"min\": 1100101.202403271,\n        \"max\": 10100301.2024032,\n        \"num_unique_values\": 828,\n        \"samples\": [\n          1100201.20240327,\n          2100501.2024041,\n          1600501.202404261\n        ],\n        \"semantic_type\": \"\",\n        \"description\": \"\"\n      }\n    },\n    {\n      \"column\": \"rate_date\",\n      \"properties\": {\n        \"dtype\": \"number\",\n        \"std\": 81,\n        \"min\": 20240304,\n        \"max\": 20240602,\n        \"num_unique_values\": 78,\n        \"samples\": [\n          20240423,\n          20240602,\n          20240422\n        ],\n        \"semantic_type\": \"\",\n        \"description\": \"\"\n      }\n    },\n    {\n      \"column\": \"\\uc5b8\\ub860\\uc0ac\",\n      \"properties\": {\n        \"dtype\": \"category\",\n        \"num_unique_values\": 55,\n        \"samples\": [\n          \"\\ub3d9\\uc544\\uc77c\\ubcf4\",\n          \"\\ud30c\\uc774\\ub0b8\\uc15c\\ub274\\uc2a4\",\n          \"\\uc11c\\uc6b8\\uc2e0\\ubb38\"\n        ],\n        \"semantic_type\": \"\",\n        \"description\": \"\"\n      }\n    },\n    {\n      \"column\": \"\\uae30\\uace0\\uc790\",\n      \"properties\": {\n        \"dtype\": \"category\",\n        \"num_unique_values\": 232,\n        \"samples\": [\n          \"\\ubc15\\ud55c\\ub098\",\n          \"\\uae40\\ub300\\uc601\",\n          \"EBN \\uae40\\uc2e0\\ud61c \\uae30\\uc790 (ksh@ebn.co.kr)\"\n        ],\n        \"semantic_type\": \"\",\n        \"description\": \"\"\n      }\n    },\n    {\n      \"column\": \"rate_comment\",\n      \"properties\": {\n        \"dtype\": \"string\",\n        \"num_unique_values\": 897,\n        \"samples\": [\n          \"\\uc0bc\\uc131\\uc804\\uc790, \\u20182024 \\ub3d9\\ub0a8\\uc544 \\ud14c\\ud06c \\uc138\\ubbf8\\ub098\\u2019\\uc11c AI TV \\ud575\\uc2ec \\uae30\\uc220 \\uacfc\\uc2dc\",\n          \"\\uc0bc\\uc131\\uc804\\uc790, \\ubd04 \\ub9de\\uc544 \\u2018\\ube44\\uc2a4\\ud3ec\\ud06c AI \\ucf64\\ubcf4\\u2019 \\uc2e0\\uaddc \\uceec\\ub7ec \\ucd9c\\uc2dc\",\n          \"\\uc0bc\\uc131\\uc804\\uc790, '2024 \\ub3d9\\ub0a8\\uc544\\uc2dc\\uc544 \\ud14c\\ud06c \\uc138\\ubbf8\\ub098'\\uc5d0\\uc11c AI TV \\ud575\\uc2ec \\uae30\\uc220\\ub825 \\uc120\\ubcf4\\uc5ec\"\n        ],\n        \"semantic_type\": \"\",\n        \"description\": \"\"\n      }\n    },\n    {\n      \"column\": \"\\ud1b5\\ud569 \\ubd84\\ub9581\",\n      \"properties\": {\n        \"dtype\": \"category\",\n        \"num_unique_values\": 19,\n        \"samples\": [\n          \"IT_\\uacfc\\ud559>\\ubaa8\\ubc14\\uc77c\",\n          \"\\uad6d\\uc81c>\\uc911\\ub0a8\\ubbf8\",\n          \"\\ubbf8\\ubd84\\ub958\"\n        ],\n        \"semantic_type\": \"\",\n        \"description\": \"\"\n      }\n    },\n    {\n      \"column\": \"\\ud1b5\\ud569 \\ubd84\\ub9582\",\n      \"properties\": {\n        \"dtype\": \"category\",\n        \"num_unique_values\": 24,\n        \"samples\": [\n          \" IT_\\uacfc\\ud559>\\uacfc\\ud559\",\n          \" \\uacbd\\uc81c>\\ubd80\\ub3d9\\uc0b0\",\n          \" \\uacbd\\uc81c>\\uc720\\ud1b5\"\n        ],\n        \"semantic_type\": \"\",\n        \"description\": \"\"\n      }\n    },\n    {\n      \"column\": \"\\ud1b5\\ud569 \\ubd84\\ub9583\",\n      \"properties\": {\n        \"dtype\": \"category\",\n        \"num_unique_values\": 22,\n        \"samples\": [\n          \" IT_\\uacfc\\ud559>\\ucf58\\ud150\\uce20\",\n          \" \\uacbd\\uc81c>\\uacbd\\uc81c\\uc77c\\ubc18\",\n          \" \\uacbd\\uc81c>\\ubd80\\ub3d9\\uc0b0\"\n        ],\n        \"semantic_type\": \"\",\n        \"description\": \"\"\n      }\n    },\n    {\n      \"column\": \"\\uc0ac\\uac74/\\uc0ac\\uace0 \\ubd84\\ub9581\",\n      \"properties\": {\n        \"dtype\": \"category\",\n        \"num_unique_values\": 6,\n        \"samples\": [\n          \"\\uc0ac\\uace0>\\uc2a4\\ud3ec\\uce20\\uc0ac\\uace0\",\n          \"\\uc0ac\\uace0>\\uc0b0\\uc5c5\\uc0ac\\uace0>\\ud654\\uc7ac\",\n          \"\\ubc94\\uc8c4>\\uae30\\uc5c5\\ubc94\\uc8c4>\\uac70\\ub798\\uc81c\\ud55c\"\n        ],\n        \"semantic_type\": \"\",\n        \"description\": \"\"\n      }\n    },\n    {\n      \"column\": \"\\uc0ac\\uac74/\\uc0ac\\uace0 \\ubd84\\ub9582\",\n      \"properties\": {\n        \"dtype\": \"category\",\n        \"num_unique_values\": 3,\n        \"samples\": [\n          \" \\uc0ac\\uace0>\\uad50\\ud1b5\\uc0ac\\uace0>\\ud574\\uc0c1\\uc0ac\\uace0\",\n          \" \\uc0ac\\uace0>\\uc0b0\\uc5c5\\uc0ac\\uace0>\\ud654\\uc7ac\",\n          \" \\uc7ac\\ud574>\\uc790\\uc5f0\\uc7ac\\ud574>\\ubbf8\\uc138\\uba3c\\uc9c0_\\ud669\\uc0ac\"\n        ],\n        \"semantic_type\": \"\",\n        \"description\": \"\"\n      }\n    },\n    {\n      \"column\": \"\\uc0ac\\uac74/\\uc0ac\\uace0 \\ubd84\\ub9583\",\n      \"properties\": {\n        \"dtype\": \"category\",\n        \"num_unique_values\": 1,\n        \"samples\": [\n          \" \\uc0ac\\uace0>\\uad50\\ud1b5\\uc0ac\\uace0>\\uc6b0\\uc8fc\\uc0ac\\uace0\"\n        ],\n        \"semantic_type\": \"\",\n        \"description\": \"\"\n      }\n    },\n    {\n      \"column\": \"\\uc778\\ubb3c\",\n      \"properties\": {\n        \"dtype\": \"category\",\n        \"num_unique_values\": 157,\n        \"samples\": [\n          \"DS\\ubd80\\ubb38,\\ud55c\\uc885\\ud76c,\\uacbd\\uacc4\\ud604\"\n        ],\n        \"semantic_type\": \"\",\n        \"description\": \"\"\n      }\n    },\n    {\n      \"column\": \"\\uc704\\uce58\",\n      \"properties\": {\n        \"dtype\": \"category\",\n        \"num_unique_values\": 354,\n        \"samples\": [\n          \"\\ud0c4\\uc790\\ub2c8\\uc544,\\uc120\\uc9c4,\\ud0c4\\uc790\\ub2c8\\uc544\\uc815\"\n        ],\n        \"semantic_type\": \"\",\n        \"description\": \"\"\n      }\n    },\n    {\n      \"column\": \"\\uae30\\uad00\",\n      \"properties\": {\n        \"dtype\": \"string\",\n        \"num_unique_values\": 675,\n        \"samples\": [\n          \"\\uc5b4\\uc81c,11\\ubc88\\uac00,CJ\\ud648\\uc1fc\\ud551,\\uc0bc\\uc131\\ub2f7\\ucef4,G\\ub9c8\\ucf13,\\uc0bc\\uc131\\uc804\\uc790\"\n        ],\n        \"semantic_type\": \"\",\n        \"description\": \"\"\n      }\n    },\n    {\n      \"column\": \"\\ud0a4\\uc6cc\\ub4dc\",\n      \"properties\": {\n        \"dtype\": \"string\",\n        \"num_unique_values\": 948,\n        \"samples\": [\n          \"\\ubd80\\ud68c\\uc7a5,\\ud55c\\uc885\\ud76c,\\uc0bc\\uc131\\uc804\\uc790,AI,\\ube44\\uc804,\\uc644\\uc131,\\ub514\\ubc14\\uc774\\uc2a4\\uacbd\\ud5d8,\\ud55c\\uc885\\ud76c,\\uc0bc\\uc131\\uc804\\uc790,DX,\\ubd80\\ubb38\\uc7a5,\\ubd80\\ud68c\\uc7a5,\\uc11c\\ucd08\\uc0ac\\uc625,\\uc11c\\uc6b8,\\uc11c\\ucd08\\uad6c,\\uc0bc\\uc131\\uc804\\uc790,\\uc6f0\\ucef4,\\uc6f0\\ucef4,\\ube44\\uc2a4\\ud3ec\\ud06c,AI,\\ubbf8\\ub514\\uc5b4\\ub370\\uc774,AI,\\uc0bc\\uc131\\uc804\\uc790,\\ube44\\uc2a4\\ud3ec\\ud06c\"\n        ],\n        \"semantic_type\": \"\",\n        \"description\": \"\"\n      }\n    },\n    {\n      \"column\": \"\\ud2b9\\uc131\\ucd94\\ucd9c(\\uac00\\uc911\\uce58\\uc21c \\uc0c1\\uc704 50\\uac1c)\",\n      \"properties\": {\n        \"dtype\": \"string\",\n        \"num_unique_values\": 945,\n        \"samples\": [\n          \"\\uc0bc\\uc131\\uc804\\uc790,\\uc6a9\\uc11d\\uc6b0,ai,tv,\\uc0ac\\uc5c5\\ubd80\\uc7a5,\\uc11c\\uc6b8,neo,oled,\\uc0bc\\uc131,\\uc0ac\\uc5c5\\ubd80,\\uc2e0\\uc81c\\ud488,\\uac15\\ub0a8\\uad6c,discover,qled,unbox,\\ud0d1\\uc7ac,\\uc2dc\\uc7a5,\\ud504\\ub85c\\uc138\\uc11c,\\uc778\\uacf5,\\uc120\\uc5b8,\\uc9c0\\ub2a5,\\ub514\\uc2a4\\ud50c\\ub808\\uc774,\\ucd9c\\uc2dc,\\uacf5\\uc2dd,\\uc2dc\\ub300,\\uc601\\uc0c1,\\uc18c\\uac1c,\\uc0ac\\uc7a5\"\n        ],\n        \"semantic_type\": \"\",\n        \"description\": \"\"\n      }\n    },\n    {\n      \"column\": \"\\ubcf8\\ubb38\",\n      \"properties\": {\n        \"dtype\": \"string\",\n        \"num_unique_values\": 933,\n        \"samples\": [\n          \"\\u201c\\uc9c0\\ub09c 18\\ub144\\uac04 \\uc138\\uacc4 TV \\uc2dc\\uc7a5 1\\uc704\\ub97c \\uc9c0\\uc18d\\ud574\\uc628 \\uc0bc\\uc131\\uc804\\uc790\\uc758 \\uae30\\uc220\\ub825\\uc744 \\uc9d1\\ub300\\uc131\\ud55c 2024\\ub144\\ud615 \\uc0bc\\uc131 TV\\ub97c \\ud1b5\\ud574 \\uc778\\uacf5\\uc9c0\\ub2a5(AI) TV \\uc2dc\\ub300\\ub97c \\uc5f4\\uaca0\\uc2b5\\ub2c8\\ub2e4.\\u201d\\n\\uc6a9\\uc11d\\uc6b0 \\uc0bc\\uc131\\uc804\\uc790 \\uc601\\uc0c1\\ub514\\uc2a4\\ud50c\\ub808\\uc774\\uc0ac\\uc5c5\\ubd80\\uc7a5 \\uc0ac\\uc7a5\\uc740 13\\uc77c \\uc11c\\uc6b8 \\uc11c\\ucd08\\uc0ac\\uc625 \\ub2e4\\ubaa9\\uc801\\ud640\\uc5d0\\uc11c \\uc5f4\\ub9b0 \\uc2e0\\uc81c\\ud488 \\ub860\\uce6d \\ud589\\uc0ac \\u2018\\uc5b8\\ubc15\\uc2a4&\\ub514\\uc2a4\\ucee4\\ubc84(Unbox & Discover) 2024\\u2019\\uc5d0\\uc11c \\uc774 \\uac19\\uc740 \\ud3ec\\ubd80\\ub97c \\ubc1d\\ud788\\uba70 AI TV \\uc2dc\\ub300..\"\n        ],\n        \"semantic_type\": \"\",\n        \"description\": \"\"\n      }\n    },\n    {\n      \"column\": \"URL\",\n      \"properties\": {\n        \"dtype\": \"string\",\n        \"num_unique_values\": 861,\n        \"samples\": [\n          \"https://www.newspim.com/news/view/20240319000123\"\n        ],\n        \"semantic_type\": \"\",\n        \"description\": \"\"\n      }\n    },\n    {\n      \"column\": \"\\ubd84\\uc11d\\uc81c\\uc678 \\uc5ec\\ubd80\",\n      \"properties\": {\n        \"dtype\": \"category\",\n        \"num_unique_values\": 3,\n        \"samples\": [\n          \"\\uc608\\uc678\"\n        ],\n        \"semantic_type\": \"\",\n        \"description\": \"\"\n      }\n    }\n  ]\n}"
            }
          },
          "metadata": {},
          "execution_count": 100
        }
      ]
    },
    {
      "cell_type": "markdown",
      "source": [
        "# 🔖2. Sentiment Dictionary\n",
        "* 출처: KNU 감성어분석사전 (https://github.com/park1200656/KnuSentiLex)\n",
        "* SentiWord_Dict.txt 파일을 저장해 text 파일로 불러오면 됩니다.\n",
        "* 해당 사전은 단어의 감성을 -2(부정적)에서 2(긍정적)까지 5점 척도로 수치화합니다."
      ],
      "metadata": {
        "id": "fYRhJDZcZ8zM"
      }
    },
    {
      "cell_type": "markdown",
      "source": [
        "## 2.1 Import Sentiment Dictionary"
      ],
      "metadata": {
        "id": "7NUC6MDckX1l"
      }
    },
    {
      "cell_type": "code",
      "source": [
        "# Import Dictionary txt file into dataframe\n",
        "dictionary = pd.read_csv(\"SentiWord_Dict.txt\", sep='\\t', lineterminator='\\n', header=None)\n",
        "dictionary.columns = ['word', 'polarity']"
      ],
      "metadata": {
        "id": "HkDYwA7nfyJg"
      },
      "execution_count": 101,
      "outputs": []
    },
    {
      "cell_type": "markdown",
      "source": [
        "## 2.2 Setting Function for Matching Score"
      ],
      "metadata": {
        "id": "AuqwO9ncf8s_"
      }
    },
    {
      "cell_type": "markdown",
      "source": [
        "* 우선, Python의 dictionary 타입은\n",
        "```\n",
        "dict_sample = {index1:value1, index2:value2}\n",
        "```\n",
        "와 같은 형태로 이루어져,\n",
        "```\n",
        "dict_sample[index1]\n",
        "```\n",
        "과 같이 indexing을 하면 값으로 value1을 돌려줍니다.\n",
        "\n",
        "* 이를 이용해 위의 sentiment dictionary를 dictionary 타입으로 만들어 단어별 점수 접근을 용이하게 합니다."
      ],
      "metadata": {
        "id": "0wNnfIIGgo9e"
      }
    },
    {
      "cell_type": "code",
      "source": [
        "dict_dictionary = dictionary.set_index('word')['polarity'].to_dict()\n",
        "\n",
        "# sample: sentiment score of '멋있다'\n",
        "dict_dictionary['좋다']"
      ],
      "metadata": {
        "colab": {
          "base_uri": "https://localhost:8080/"
        },
        "id": "L4apK4Dqkb9d",
        "outputId": "a464d886-a3c0-4d81-e4d0-9396ff2fbade"
      },
      "execution_count": 102,
      "outputs": [
        {
          "output_type": "execute_result",
          "data": {
            "text/plain": [
              "2.0"
            ]
          },
          "metadata": {},
          "execution_count": 102
        }
      ]
    },
    {
      "cell_type": "markdown",
      "source": [
        "* 이제 이 dictionary를 이용해 각 단어의 score를 return하는 함수를 만들어 줍니다.\n",
        "* 어떠한 단어 word가 dict_dictionary에 있을 경우 그 점수를, 없을 경우 0을 반환하는 함수 sentiment_score는 다음과 같습니다."
      ],
      "metadata": {
        "id": "HZl9dFwHgsrW"
      }
    },
    {
      "cell_type": "code",
      "source": [
        "# Define function for matching word in dictionaries\n",
        "def sentiment_score(word):\n",
        "  if word in dict_dictionary.keys():\n",
        "    return(dict_dictionary[word])\n",
        "  else:\n",
        "    return(0)"
      ],
      "metadata": {
        "id": "vE1vPhJJg-qw"
      },
      "execution_count": 103,
      "outputs": []
    },
    {
      "cell_type": "markdown",
      "source": [
        "* 만들어진 sentiment_score 함수를 이용해 여러 단어의 감성 점수를 합산해 주는 sentiment_scores를 만들면 다음과 같습니다.\n",
        "* word_list 안에 포함된 모든 word의 점수값을 합산해 반환합니다."
      ],
      "metadata": {
        "id": "8dgOtzZQhAy7"
      }
    },
    {
      "cell_type": "code",
      "source": [
        "# Define function for sentiment score sum\n",
        "def sentiment_scores(word_list):\n",
        "  return(sum([sentiment_score(word) for word in word_list]))"
      ],
      "metadata": {
        "id": "dOrL3HlVhANx"
      },
      "execution_count": 104,
      "outputs": []
    },
    {
      "cell_type": "code",
      "source": [
        "# 이때 '재밌다'의 index에 점수는 2.0이라는 value를 입력해 줄 수 있습니다.\n",
        "dict_dictionary['성장'] = 2.0\n",
        "dict_dictionary['1위'] = 2.0\n",
        "dict_dictionary['선도'] = 2.0\n",
        "dict_dictionary['호평'] = 2.0"
      ],
      "metadata": {
        "id": "auByM5PXkLmn"
      },
      "execution_count": 107,
      "outputs": []
    },
    {
      "cell_type": "code",
      "source": [
        "# example\n",
        "print(sentiment_score('좋다')) # 2.0\n",
        "print(sentiment_score('성장')) # 2.0\n",
        "print(sentiment_scores(['좋다', '성장'])) # 2.0 + 2.0 = 4.0"
      ],
      "metadata": {
        "colab": {
          "base_uri": "https://localhost:8080/"
        },
        "id": "DGMV1qnzkb59",
        "outputId": "0944848f-95f2-4d67-bdcd-82cead7fc9ef"
      },
      "execution_count": 108,
      "outputs": [
        {
          "output_type": "stream",
          "name": "stdout",
          "text": [
            "2.0\n",
            "2.0\n",
            "4.0\n"
          ]
        }
      ]
    },
    {
      "cell_type": "markdown",
      "source": [
        "# 🔖3. Data Cleaning for Text Analysis\n",
        "* Python text cleaning 참고자료: https://wikidocs.net/21694"
      ],
      "metadata": {
        "id": "e1st-fQiewrZ"
      }
    },
    {
      "cell_type": "code",
      "source": [
        "# 한국어 자연어처리를 위한 패키지\n",
        "# Colab이 아닌 local에서 설치할 때는 설치 과정이 조금 더 복잡하니 가능한 colab에서 수행하시기 바랍니다.\n",
        "!pip install konlpy\n",
        "import konlpy"
      ],
      "metadata": {
        "colab": {
          "base_uri": "https://localhost:8080/"
        },
        "collapsed": true,
        "outputId": "7bde2557-0ef6-43c2-e49c-72b0560bcef6",
        "id": "EHDvuXNHewra"
      },
      "execution_count": 109,
      "outputs": [
        {
          "output_type": "stream",
          "name": "stdout",
          "text": [
            "Requirement already satisfied: konlpy in /usr/local/lib/python3.10/dist-packages (0.6.0)\n",
            "Requirement already satisfied: JPype1>=0.7.0 in /usr/local/lib/python3.10/dist-packages (from konlpy) (1.5.0)\n",
            "Requirement already satisfied: lxml>=4.1.0 in /usr/local/lib/python3.10/dist-packages (from konlpy) (4.9.4)\n",
            "Requirement already satisfied: numpy>=1.6 in /usr/local/lib/python3.10/dist-packages (from konlpy) (1.25.2)\n",
            "Requirement already satisfied: packaging in /usr/local/lib/python3.10/dist-packages (from JPype1>=0.7.0->konlpy) (24.0)\n"
          ]
        }
      ]
    },
    {
      "cell_type": "markdown",
      "source": [
        "## 3.1 특수문자 제거\n",
        "\n",
        "* 정규표현식(regex)를 이용해 의미를 갖지 않는 특수문자(예: 온점, 반점, 따옴표 등)를 제외하고 한글, 영어, 숫자 등만 남깁니다.\n",
        "* 파이썬 정규표현식 참고자료: https://wikidocs.net/1642\n",
        "\n",
        "\n",
        "\n",
        "English version:\n",
        "```\n",
        "import re\n",
        "df = df.apply(lambda x: re.sub(r'[^\\w\\d\\s]', '', x))\n",
        "df.head()\n",
        "```"
      ],
      "metadata": {
        "id": "4jXqQTT5MInO"
      }
    },
    {
      "cell_type": "code",
      "source": [
        "import re\n",
        "import numpy as np"
      ],
      "metadata": {
        "id": "hpf5QBoBigVB"
      },
      "execution_count": 110,
      "outputs": []
    },
    {
      "cell_type": "code",
      "source": [
        "re.sub(r'[^\\w\\d\\s\\ㄱ-힣]', ' ', \"** 예시 텍스트** (문장에 필요하지 않은 성분은 공백으로 대체합니다.)\")"
      ],
      "metadata": {
        "colab": {
          "base_uri": "https://localhost:8080/",
          "height": 36
        },
        "id": "Wo8fCz7gigw6",
        "outputId": "c09f33e1-92a6-4356-850c-28856a3a802a"
      },
      "execution_count": 111,
      "outputs": [
        {
          "output_type": "execute_result",
          "data": {
            "text/plain": [
              "'   예시 텍스트    문장에 필요하지 않은 성분은 공백으로 대체합니다  '"
            ],
            "application/vnd.google.colaboratory.intrinsic+json": {
              "type": "string"
            }
          },
          "metadata": {},
          "execution_count": 111
        }
      ]
    },
    {
      "cell_type": "code",
      "source": [
        "data['rate_comment'][:10]"
      ],
      "metadata": {
        "colab": {
          "base_uri": "https://localhost:8080/"
        },
        "id": "qv5-_-u1c2A1",
        "outputId": "931a09a5-0f3f-46d5-afc2-aa29df06830e"
      },
      "execution_count": 112,
      "outputs": [
        {
          "output_type": "execute_result",
          "data": {
            "text/plain": [
              "0            삼성전자, `AI폰` 시장 장악에 폴더블폰 주춤? `갤Z6`로 반전 꾀할까\n",
              "1    “오늘은 AI 요리사” 삼성전자, 인덕션 식기세척기 구매 혜택 ‘인 식바꿈’ 프로모...\n",
              "2                 “AI로 편하게 요리하자” 삼성전자, ‘인 식바꿈’ 프로모션 실시\n",
              "3             'AI폰' 끌고 키워 온 삼성전자... 폴더블 시장에선 추격 매서운 중국\n",
              "4                     삼성전자 ‘AI 원년’ 6개월 한종희 “열심히 하고 있다”\n",
              "5                   삼성전자, 글로벌 1Q AI폰 점유율 58.4%로 압도적 1위\n",
              "6                 \"5만원 더\"...민팃, 삼성전자와 '갤럭시 AI 추가보상' 시행\n",
              "7                     삼성전자 글로벌 AI폰 시장 장악...1분기 점유율 58%\n",
              "8    “삼성전자 갤럭시 S24 시리즈, AI 스마트폰 시장 지배” 1분기 생성형 AI폰 ...\n",
              "9                           민팃, 삼성전자와 ‘갤럭시 AI 추가보상’ 시행\n",
              "Name: rate_comment, dtype: object"
            ]
          },
          "metadata": {},
          "execution_count": 112
        }
      ]
    },
    {
      "cell_type": "code",
      "source": [
        "data['rate_comment_rm'] = data['rate_comment'].apply(lambda x: re.sub(r'[^\\w\\d\\s\\ㄱ-힣]', ' ', str(x)) if x!= np.nan else x)\n",
        "# \"lambda x: function(x)\"는 x에 대한 간단한 함수를 수행합니다.\n",
        "# 위의 함수는 x가 비어 있는 missing 상태가 아니라면 (if x!=np.nan) re.sub(r'[^\\w\\d\\s\\ㄱ-힣]', ' ', str(x))을 이용해 텍스트의 특수문자를 제거하고, 아니면 (else) x를 그대로 두라는 의미입니다.\n",
        "# 여기서 x는 data['rate_comment']의 각 줄의 값을 의미합니다.\n",
        "\n",
        "data['rate_comment_rm'][:10]"
      ],
      "metadata": {
        "colab": {
          "base_uri": "https://localhost:8080/"
        },
        "id": "q1f5wHiXMLAY",
        "outputId": "878de899-87ab-4234-ce43-d2a74c085394"
      },
      "execution_count": 113,
      "outputs": [
        {
          "output_type": "execute_result",
          "data": {
            "text/plain": [
              "0            삼성전자   AI폰  시장 장악에 폴더블폰 주춤   갤Z6 로 반전 꾀할까\n",
              "1     오늘은 AI 요리사  삼성전자  인덕션 식기세척기 구매 혜택  인 식바꿈  프로모...\n",
              "2                  AI로 편하게 요리하자  삼성전자   인 식바꿈  프로모션 실시\n",
              "3              AI폰  끌고 키워 온 삼성전자    폴더블 시장에선 추격 매서운 중국\n",
              "4                     삼성전자  AI 원년  6개월 한종희  열심히 하고 있다 \n",
              "5                   삼성전자  글로벌 1Q AI폰 점유율 58 4 로 압도적 1위\n",
              "6                  5만원 더    민팃  삼성전자와  갤럭시 AI 추가보상  시행\n",
              "7                     삼성전자 글로벌 AI폰 시장 장악   1분기 점유율 58 \n",
              "8     삼성전자 갤럭시 S24 시리즈  AI 스마트폰 시장 지배  1분기 생성형 AI폰 ...\n",
              "9                           민팃  삼성전자와  갤럭시 AI 추가보상  시행\n",
              "Name: rate_comment_rm, dtype: object"
            ]
          },
          "metadata": {},
          "execution_count": 113
        }
      ]
    },
    {
      "cell_type": "markdown",
      "source": [
        "## 3.2 토큰화 (Tokenization) & 표제어 추출 (Lemmatization)\n",
        "* 토큰화(Tokenization): 문장 내에서 공백으로만 나뉘어 있는 단어(어절) 단위를 자르고,\n",
        "* 표제어 추출(Lemmatization): 각 단어의 원형을 찾아 줍니다. (e.g., \"자르고\"의 원형은 \"자르다\")\n",
        "\n",
        "\n",
        "* 영어와 한국어 사이에 패키지 차이가 있음 (한글은 konlpy, 영어는 nltk 사용)\n",
        "\n",
        "English version - Lemmatization\n",
        "\n",
        "```\n",
        "nltk.download('punkt')\n",
        "from nltk.tokenize import word_tokenize\n",
        "from nltk.tokenize import WordPunctTokenizer\n",
        "df_token = df.apply(lambda x: word_tokenize(x))\n",
        "\n",
        "nltk.download('wordnet')\n",
        "from nltk.stem import WordNetLemmatizer\n",
        "WL = WordNetLemmatizer()\n",
        "tokens = tokens.apply(lambda x: [WL.lemmatize(word, 'n') for word in x])\n",
        "```\n",
        "\n",
        "English Version - Cleaning Stopwords\n",
        "```\n",
        "nltk.download(\"stopwords\")\n",
        "from nltk.corpus import stopwords\n",
        "sw_list = stopwords.words(\"english\")\n",
        "tokens = tokens.apply(lambda x: [word for word in x if word not in sw_list])\n",
        "```"
      ],
      "metadata": {
        "id": "CiI_qgOoMSgP"
      }
    },
    {
      "cell_type": "code",
      "source": [
        "from konlpy.tag import Okt\n",
        "okt = Okt()"
      ],
      "metadata": {
        "id": "1Li5OSyqi2wK"
      },
      "execution_count": 114,
      "outputs": []
    },
    {
      "cell_type": "code",
      "source": [
        "sample_word = data['rate_comment_rm'].tolist()[0]\n",
        "\n",
        "print(sample_word)\n",
        "print(okt.morphs(sample_word))\n",
        "print(okt.morphs(sample_word, norm=True)) # 맞춤법, 띄어쓰기 보정\n",
        "print(okt.morphs(sample_word, stem=True)) # 단어의 원형 탐색\n",
        "print(okt.morphs(sample_word, norm=True, stem=True))"
      ],
      "metadata": {
        "colab": {
          "base_uri": "https://localhost:8080/"
        },
        "id": "ZUgmvSjaMQ0E",
        "outputId": "be87a1ad-2b11-4400-bd3b-660727a56d52"
      },
      "execution_count": 115,
      "outputs": [
        {
          "output_type": "stream",
          "name": "stdout",
          "text": [
            "삼성전자   AI폰  시장 장악에 폴더블폰 주춤   갤Z6 로 반전 꾀할까\n",
            "['삼성', '전자', 'AI', '폰', '시장', '장악', '에', '폴', '더블', '폰', '주춤', '갤', 'Z', '6', '로', '반전', '꾀', '할까']\n",
            "['삼성', '전자', 'AI', '폰', '시장', '장악', '에', '폴', '더블', '폰', '주춤', '갤', 'Z', '6', '로', '반전', '꾀', '할까']\n",
            "['삼성', '전자', 'AI', '폰', '시장', '장악', '에', '폴', '더블', '폰', '주춤', '개다', 'Z', '6', '로', '반전', '꾀', '하다']\n",
            "['삼성', '전자', 'AI', '폰', '시장', '장악', '에', '폴', '더블', '폰', '주춤', '개다', 'Z', '6', '로', '반전', '꾀', '하다']\n"
          ]
        }
      ]
    },
    {
      "cell_type": "code",
      "source": [
        "# Apply the lemmatization function (앞과 같은 방법으로 함수 적용)\n",
        "data['rate_comment_rm_lm'] = data['rate_comment_rm'].apply(lambda x: okt.morphs(x, norm=True, stem=True))"
      ],
      "metadata": {
        "id": "kGPakZlOl86X"
      },
      "execution_count": 116,
      "outputs": []
    },
    {
      "cell_type": "markdown",
      "source": [
        "# 🔖4. Sentiment Analysis: matching Sentiment Dictionary scores\n",
        "* 앞에서 만들어 둔 sentiment_scores() 함수를 이용해 점수를 계산해 줍니다."
      ],
      "metadata": {
        "id": "mK_ctTg5mlpA"
      }
    },
    {
      "cell_type": "code",
      "source": [
        "# Apply sentiment scores (sum) function\n",
        "data['rate_sentiscore'] = data['rate_comment_rm_lm'].apply(lambda x: sentiment_scores(x))\n",
        "data[['rate_comment', 'rate_sentiscore']].head(3)"
      ],
      "metadata": {
        "id": "uTWZi5pbmBSH",
        "colab": {
          "base_uri": "https://localhost:8080/",
          "height": 143
        },
        "outputId": "d0de0e54-8d9f-41f3-f775-d5ad3d29d44e"
      },
      "execution_count": 117,
      "outputs": [
        {
          "output_type": "execute_result",
          "data": {
            "text/plain": [
              "                                        rate_comment  rate_sentiscore\n",
              "0          삼성전자, `AI폰` 시장 장악에 폴더블폰 주춤? `갤Z6`로 반전 꾀할까             -1.0\n",
              "1  “오늘은 AI 요리사” 삼성전자, 인덕션 식기세척기 구매 혜택 ‘인 식바꿈’ 프로모...              1.0\n",
              "2               “AI로 편하게 요리하자” 삼성전자, ‘인 식바꿈’ 프로모션 실시              2.0"
            ],
            "text/html": [
              "\n",
              "  <div id=\"df-aecb0056-3001-4d98-9aeb-b4b02553f659\" class=\"colab-df-container\">\n",
              "    <div>\n",
              "<style scoped>\n",
              "    .dataframe tbody tr th:only-of-type {\n",
              "        vertical-align: middle;\n",
              "    }\n",
              "\n",
              "    .dataframe tbody tr th {\n",
              "        vertical-align: top;\n",
              "    }\n",
              "\n",
              "    .dataframe thead th {\n",
              "        text-align: right;\n",
              "    }\n",
              "</style>\n",
              "<table border=\"1\" class=\"dataframe\">\n",
              "  <thead>\n",
              "    <tr style=\"text-align: right;\">\n",
              "      <th></th>\n",
              "      <th>rate_comment</th>\n",
              "      <th>rate_sentiscore</th>\n",
              "    </tr>\n",
              "  </thead>\n",
              "  <tbody>\n",
              "    <tr>\n",
              "      <th>0</th>\n",
              "      <td>삼성전자, `AI폰` 시장 장악에 폴더블폰 주춤? `갤Z6`로 반전 꾀할까</td>\n",
              "      <td>-1.0</td>\n",
              "    </tr>\n",
              "    <tr>\n",
              "      <th>1</th>\n",
              "      <td>“오늘은 AI 요리사” 삼성전자, 인덕션 식기세척기 구매 혜택 ‘인 식바꿈’ 프로모...</td>\n",
              "      <td>1.0</td>\n",
              "    </tr>\n",
              "    <tr>\n",
              "      <th>2</th>\n",
              "      <td>“AI로 편하게 요리하자” 삼성전자, ‘인 식바꿈’ 프로모션 실시</td>\n",
              "      <td>2.0</td>\n",
              "    </tr>\n",
              "  </tbody>\n",
              "</table>\n",
              "</div>\n",
              "    <div class=\"colab-df-buttons\">\n",
              "\n",
              "  <div class=\"colab-df-container\">\n",
              "    <button class=\"colab-df-convert\" onclick=\"convertToInteractive('df-aecb0056-3001-4d98-9aeb-b4b02553f659')\"\n",
              "            title=\"Convert this dataframe to an interactive table.\"\n",
              "            style=\"display:none;\">\n",
              "\n",
              "  <svg xmlns=\"http://www.w3.org/2000/svg\" height=\"24px\" viewBox=\"0 -960 960 960\">\n",
              "    <path d=\"M120-120v-720h720v720H120Zm60-500h600v-160H180v160Zm220 220h160v-160H400v160Zm0 220h160v-160H400v160ZM180-400h160v-160H180v160Zm440 0h160v-160H620v160ZM180-180h160v-160H180v160Zm440 0h160v-160H620v160Z\"/>\n",
              "  </svg>\n",
              "    </button>\n",
              "\n",
              "  <style>\n",
              "    .colab-df-container {\n",
              "      display:flex;\n",
              "      gap: 12px;\n",
              "    }\n",
              "\n",
              "    .colab-df-convert {\n",
              "      background-color: #E8F0FE;\n",
              "      border: none;\n",
              "      border-radius: 50%;\n",
              "      cursor: pointer;\n",
              "      display: none;\n",
              "      fill: #1967D2;\n",
              "      height: 32px;\n",
              "      padding: 0 0 0 0;\n",
              "      width: 32px;\n",
              "    }\n",
              "\n",
              "    .colab-df-convert:hover {\n",
              "      background-color: #E2EBFA;\n",
              "      box-shadow: 0px 1px 2px rgba(60, 64, 67, 0.3), 0px 1px 3px 1px rgba(60, 64, 67, 0.15);\n",
              "      fill: #174EA6;\n",
              "    }\n",
              "\n",
              "    .colab-df-buttons div {\n",
              "      margin-bottom: 4px;\n",
              "    }\n",
              "\n",
              "    [theme=dark] .colab-df-convert {\n",
              "      background-color: #3B4455;\n",
              "      fill: #D2E3FC;\n",
              "    }\n",
              "\n",
              "    [theme=dark] .colab-df-convert:hover {\n",
              "      background-color: #434B5C;\n",
              "      box-shadow: 0px 1px 3px 1px rgba(0, 0, 0, 0.15);\n",
              "      filter: drop-shadow(0px 1px 2px rgba(0, 0, 0, 0.3));\n",
              "      fill: #FFFFFF;\n",
              "    }\n",
              "  </style>\n",
              "\n",
              "    <script>\n",
              "      const buttonEl =\n",
              "        document.querySelector('#df-aecb0056-3001-4d98-9aeb-b4b02553f659 button.colab-df-convert');\n",
              "      buttonEl.style.display =\n",
              "        google.colab.kernel.accessAllowed ? 'block' : 'none';\n",
              "\n",
              "      async function convertToInteractive(key) {\n",
              "        const element = document.querySelector('#df-aecb0056-3001-4d98-9aeb-b4b02553f659');\n",
              "        const dataTable =\n",
              "          await google.colab.kernel.invokeFunction('convertToInteractive',\n",
              "                                                    [key], {});\n",
              "        if (!dataTable) return;\n",
              "\n",
              "        const docLinkHtml = 'Like what you see? Visit the ' +\n",
              "          '<a target=\"_blank\" href=https://colab.research.google.com/notebooks/data_table.ipynb>data table notebook</a>'\n",
              "          + ' to learn more about interactive tables.';\n",
              "        element.innerHTML = '';\n",
              "        dataTable['output_type'] = 'display_data';\n",
              "        await google.colab.output.renderOutput(dataTable, element);\n",
              "        const docLink = document.createElement('div');\n",
              "        docLink.innerHTML = docLinkHtml;\n",
              "        element.appendChild(docLink);\n",
              "      }\n",
              "    </script>\n",
              "  </div>\n",
              "\n",
              "\n",
              "<div id=\"df-8208f09e-c943-44ff-be43-bfa1839f1f2e\">\n",
              "  <button class=\"colab-df-quickchart\" onclick=\"quickchart('df-8208f09e-c943-44ff-be43-bfa1839f1f2e')\"\n",
              "            title=\"Suggest charts\"\n",
              "            style=\"display:none;\">\n",
              "\n",
              "<svg xmlns=\"http://www.w3.org/2000/svg\" height=\"24px\"viewBox=\"0 0 24 24\"\n",
              "     width=\"24px\">\n",
              "    <g>\n",
              "        <path d=\"M19 3H5c-1.1 0-2 .9-2 2v14c0 1.1.9 2 2 2h14c1.1 0 2-.9 2-2V5c0-1.1-.9-2-2-2zM9 17H7v-7h2v7zm4 0h-2V7h2v10zm4 0h-2v-4h2v4z\"/>\n",
              "    </g>\n",
              "</svg>\n",
              "  </button>\n",
              "\n",
              "<style>\n",
              "  .colab-df-quickchart {\n",
              "      --bg-color: #E8F0FE;\n",
              "      --fill-color: #1967D2;\n",
              "      --hover-bg-color: #E2EBFA;\n",
              "      --hover-fill-color: #174EA6;\n",
              "      --disabled-fill-color: #AAA;\n",
              "      --disabled-bg-color: #DDD;\n",
              "  }\n",
              "\n",
              "  [theme=dark] .colab-df-quickchart {\n",
              "      --bg-color: #3B4455;\n",
              "      --fill-color: #D2E3FC;\n",
              "      --hover-bg-color: #434B5C;\n",
              "      --hover-fill-color: #FFFFFF;\n",
              "      --disabled-bg-color: #3B4455;\n",
              "      --disabled-fill-color: #666;\n",
              "  }\n",
              "\n",
              "  .colab-df-quickchart {\n",
              "    background-color: var(--bg-color);\n",
              "    border: none;\n",
              "    border-radius: 50%;\n",
              "    cursor: pointer;\n",
              "    display: none;\n",
              "    fill: var(--fill-color);\n",
              "    height: 32px;\n",
              "    padding: 0;\n",
              "    width: 32px;\n",
              "  }\n",
              "\n",
              "  .colab-df-quickchart:hover {\n",
              "    background-color: var(--hover-bg-color);\n",
              "    box-shadow: 0 1px 2px rgba(60, 64, 67, 0.3), 0 1px 3px 1px rgba(60, 64, 67, 0.15);\n",
              "    fill: var(--button-hover-fill-color);\n",
              "  }\n",
              "\n",
              "  .colab-df-quickchart-complete:disabled,\n",
              "  .colab-df-quickchart-complete:disabled:hover {\n",
              "    background-color: var(--disabled-bg-color);\n",
              "    fill: var(--disabled-fill-color);\n",
              "    box-shadow: none;\n",
              "  }\n",
              "\n",
              "  .colab-df-spinner {\n",
              "    border: 2px solid var(--fill-color);\n",
              "    border-color: transparent;\n",
              "    border-bottom-color: var(--fill-color);\n",
              "    animation:\n",
              "      spin 1s steps(1) infinite;\n",
              "  }\n",
              "\n",
              "  @keyframes spin {\n",
              "    0% {\n",
              "      border-color: transparent;\n",
              "      border-bottom-color: var(--fill-color);\n",
              "      border-left-color: var(--fill-color);\n",
              "    }\n",
              "    20% {\n",
              "      border-color: transparent;\n",
              "      border-left-color: var(--fill-color);\n",
              "      border-top-color: var(--fill-color);\n",
              "    }\n",
              "    30% {\n",
              "      border-color: transparent;\n",
              "      border-left-color: var(--fill-color);\n",
              "      border-top-color: var(--fill-color);\n",
              "      border-right-color: var(--fill-color);\n",
              "    }\n",
              "    40% {\n",
              "      border-color: transparent;\n",
              "      border-right-color: var(--fill-color);\n",
              "      border-top-color: var(--fill-color);\n",
              "    }\n",
              "    60% {\n",
              "      border-color: transparent;\n",
              "      border-right-color: var(--fill-color);\n",
              "    }\n",
              "    80% {\n",
              "      border-color: transparent;\n",
              "      border-right-color: var(--fill-color);\n",
              "      border-bottom-color: var(--fill-color);\n",
              "    }\n",
              "    90% {\n",
              "      border-color: transparent;\n",
              "      border-bottom-color: var(--fill-color);\n",
              "    }\n",
              "  }\n",
              "</style>\n",
              "\n",
              "  <script>\n",
              "    async function quickchart(key) {\n",
              "      const quickchartButtonEl =\n",
              "        document.querySelector('#' + key + ' button');\n",
              "      quickchartButtonEl.disabled = true;  // To prevent multiple clicks.\n",
              "      quickchartButtonEl.classList.add('colab-df-spinner');\n",
              "      try {\n",
              "        const charts = await google.colab.kernel.invokeFunction(\n",
              "            'suggestCharts', [key], {});\n",
              "      } catch (error) {\n",
              "        console.error('Error during call to suggestCharts:', error);\n",
              "      }\n",
              "      quickchartButtonEl.classList.remove('colab-df-spinner');\n",
              "      quickchartButtonEl.classList.add('colab-df-quickchart-complete');\n",
              "    }\n",
              "    (() => {\n",
              "      let quickchartButtonEl =\n",
              "        document.querySelector('#df-8208f09e-c943-44ff-be43-bfa1839f1f2e button');\n",
              "      quickchartButtonEl.style.display =\n",
              "        google.colab.kernel.accessAllowed ? 'block' : 'none';\n",
              "    })();\n",
              "  </script>\n",
              "</div>\n",
              "\n",
              "    </div>\n",
              "  </div>\n"
            ],
            "application/vnd.google.colaboratory.intrinsic+json": {
              "type": "dataframe",
              "summary": "{\n  \"name\": \"data[['rate_comment', 'rate_sentiscore']]\",\n  \"rows\": 3,\n  \"fields\": [\n    {\n      \"column\": \"rate_comment\",\n      \"properties\": {\n        \"dtype\": \"string\",\n        \"num_unique_values\": 3,\n        \"samples\": [\n          \"\\uc0bc\\uc131\\uc804\\uc790, `AI\\ud3f0` \\uc2dc\\uc7a5 \\uc7a5\\uc545\\uc5d0 \\ud3f4\\ub354\\ube14\\ud3f0 \\uc8fc\\ucda4? `\\uac24Z6`\\ub85c \\ubc18\\uc804 \\uaf80\\ud560\\uae4c\",\n          \"\\u201c\\uc624\\ub298\\uc740 AI \\uc694\\ub9ac\\uc0ac\\u201d \\uc0bc\\uc131\\uc804\\uc790, \\uc778\\ub355\\uc158 \\uc2dd\\uae30\\uc138\\ucc99\\uae30 \\uad6c\\ub9e4 \\ud61c\\ud0dd \\u2018\\uc778 \\uc2dd\\ubc14\\uafc8\\u2019 \\ud504\\ub85c\\ubaa8\\uc158 \\uc9c4\\ud589\",\n          \"\\u201cAI\\ub85c \\ud3b8\\ud558\\uac8c \\uc694\\ub9ac\\ud558\\uc790\\u201d \\uc0bc\\uc131\\uc804\\uc790, \\u2018\\uc778 \\uc2dd\\ubc14\\uafc8\\u2019 \\ud504\\ub85c\\ubaa8\\uc158 \\uc2e4\\uc2dc\"\n        ],\n        \"semantic_type\": \"\",\n        \"description\": \"\"\n      }\n    },\n    {\n      \"column\": \"rate_sentiscore\",\n      \"properties\": {\n        \"dtype\": \"number\",\n        \"std\": 1.5275252316519465,\n        \"min\": -1.0,\n        \"max\": 2.0,\n        \"num_unique_values\": 3,\n        \"samples\": [\n          -1.0,\n          1.0,\n          2.0\n        ],\n        \"semantic_type\": \"\",\n        \"description\": \"\"\n      }\n    }\n  ]\n}"
            }
          },
          "metadata": {},
          "execution_count": 117
        }
      ]
    },
    {
      "cell_type": "code",
      "source": [
        "print(sentiment_score('성장하다'))\n",
        "print(sentiment_score('강세'))\n",
        "print(sentiment_score('좋다'))\n",
        "print(sentiment_score('주춤'))\n",
        "\n",
        "print(sentiment_scores(okt.morphs(sample_word, norm=True, stem=True)))"
      ],
      "metadata": {
        "colab": {
          "base_uri": "https://localhost:8080/"
        },
        "id": "hkJc5AHHlwig",
        "outputId": "96b4a21e-235e-4c1d-bfcd-b3beaca7f4b7"
      },
      "execution_count": 122,
      "outputs": [
        {
          "output_type": "stream",
          "name": "stdout",
          "text": [
            "2.0\n",
            "1.0\n",
            "2.0\n",
            "-1.0\n",
            "-1.0\n"
          ]
        }
      ]
    },
    {
      "cell_type": "code",
      "source": [
        "data[['rate_comment','rate_sentiscore']]"
      ],
      "metadata": {
        "colab": {
          "base_uri": "https://localhost:8080/",
          "height": 423
        },
        "id": "XLM5dNcZem-x",
        "outputId": "da69b621-9678-49c9-c4a2-61f6fbecd888"
      },
      "execution_count": 125,
      "outputs": [
        {
          "output_type": "execute_result",
          "data": {
            "text/plain": [
              "                                          rate_comment  rate_sentiscore\n",
              "0            삼성전자, `AI폰` 시장 장악에 폴더블폰 주춤? `갤Z6`로 반전 꾀할까             -1.0\n",
              "1    “오늘은 AI 요리사” 삼성전자, 인덕션 식기세척기 구매 혜택 ‘인 식바꿈’ 프로모...              1.0\n",
              "2                 “AI로 편하게 요리하자” 삼성전자, ‘인 식바꿈’ 프로모션 실시              2.0\n",
              "3             'AI폰' 끌고 키워 온 삼성전자... 폴더블 시장에선 추격 매서운 중국              0.0\n",
              "4                     삼성전자 ‘AI 원년’ 6개월 한종희 “열심히 하고 있다”              2.0\n",
              "..                                                 ...              ...\n",
              "954                 냉장고에 '보안 최고등급'? 삼성전자, AI로 세계 최초 인증              2.0\n",
              "955                   노트북도 AI가 대세...삼성전자 갤럭시북 vs LG 그램              0.0\n",
              "956            삼성전자, AI 노트북 ‘갤럭시 북4 시리즈’ 국내 판매 10만대 돌파              0.0\n",
              "957                [특징주] 美 AI 반도체 훈풍에...삼성전자 SK하이닉스 강세              1.0\n",
              "958                  AI 열풍, 미국 반도체 지수 신고가 삼성전자 하이닉스 강세              1.0\n",
              "\n",
              "[959 rows x 2 columns]"
            ],
            "text/html": [
              "\n",
              "  <div id=\"df-5aeda9b5-13ae-4a23-813c-a62b1891f1c8\" class=\"colab-df-container\">\n",
              "    <div>\n",
              "<style scoped>\n",
              "    .dataframe tbody tr th:only-of-type {\n",
              "        vertical-align: middle;\n",
              "    }\n",
              "\n",
              "    .dataframe tbody tr th {\n",
              "        vertical-align: top;\n",
              "    }\n",
              "\n",
              "    .dataframe thead th {\n",
              "        text-align: right;\n",
              "    }\n",
              "</style>\n",
              "<table border=\"1\" class=\"dataframe\">\n",
              "  <thead>\n",
              "    <tr style=\"text-align: right;\">\n",
              "      <th></th>\n",
              "      <th>rate_comment</th>\n",
              "      <th>rate_sentiscore</th>\n",
              "    </tr>\n",
              "  </thead>\n",
              "  <tbody>\n",
              "    <tr>\n",
              "      <th>0</th>\n",
              "      <td>삼성전자, `AI폰` 시장 장악에 폴더블폰 주춤? `갤Z6`로 반전 꾀할까</td>\n",
              "      <td>-1.0</td>\n",
              "    </tr>\n",
              "    <tr>\n",
              "      <th>1</th>\n",
              "      <td>“오늘은 AI 요리사” 삼성전자, 인덕션 식기세척기 구매 혜택 ‘인 식바꿈’ 프로모...</td>\n",
              "      <td>1.0</td>\n",
              "    </tr>\n",
              "    <tr>\n",
              "      <th>2</th>\n",
              "      <td>“AI로 편하게 요리하자” 삼성전자, ‘인 식바꿈’ 프로모션 실시</td>\n",
              "      <td>2.0</td>\n",
              "    </tr>\n",
              "    <tr>\n",
              "      <th>3</th>\n",
              "      <td>'AI폰' 끌고 키워 온 삼성전자... 폴더블 시장에선 추격 매서운 중국</td>\n",
              "      <td>0.0</td>\n",
              "    </tr>\n",
              "    <tr>\n",
              "      <th>4</th>\n",
              "      <td>삼성전자 ‘AI 원년’ 6개월 한종희 “열심히 하고 있다”</td>\n",
              "      <td>2.0</td>\n",
              "    </tr>\n",
              "    <tr>\n",
              "      <th>...</th>\n",
              "      <td>...</td>\n",
              "      <td>...</td>\n",
              "    </tr>\n",
              "    <tr>\n",
              "      <th>954</th>\n",
              "      <td>냉장고에 '보안 최고등급'? 삼성전자, AI로 세계 최초 인증</td>\n",
              "      <td>2.0</td>\n",
              "    </tr>\n",
              "    <tr>\n",
              "      <th>955</th>\n",
              "      <td>노트북도 AI가 대세...삼성전자 갤럭시북 vs LG 그램</td>\n",
              "      <td>0.0</td>\n",
              "    </tr>\n",
              "    <tr>\n",
              "      <th>956</th>\n",
              "      <td>삼성전자, AI 노트북 ‘갤럭시 북4 시리즈’ 국내 판매 10만대 돌파</td>\n",
              "      <td>0.0</td>\n",
              "    </tr>\n",
              "    <tr>\n",
              "      <th>957</th>\n",
              "      <td>[특징주] 美 AI 반도체 훈풍에...삼성전자 SK하이닉스 강세</td>\n",
              "      <td>1.0</td>\n",
              "    </tr>\n",
              "    <tr>\n",
              "      <th>958</th>\n",
              "      <td>AI 열풍, 미국 반도체 지수 신고가 삼성전자 하이닉스 강세</td>\n",
              "      <td>1.0</td>\n",
              "    </tr>\n",
              "  </tbody>\n",
              "</table>\n",
              "<p>959 rows × 2 columns</p>\n",
              "</div>\n",
              "    <div class=\"colab-df-buttons\">\n",
              "\n",
              "  <div class=\"colab-df-container\">\n",
              "    <button class=\"colab-df-convert\" onclick=\"convertToInteractive('df-5aeda9b5-13ae-4a23-813c-a62b1891f1c8')\"\n",
              "            title=\"Convert this dataframe to an interactive table.\"\n",
              "            style=\"display:none;\">\n",
              "\n",
              "  <svg xmlns=\"http://www.w3.org/2000/svg\" height=\"24px\" viewBox=\"0 -960 960 960\">\n",
              "    <path d=\"M120-120v-720h720v720H120Zm60-500h600v-160H180v160Zm220 220h160v-160H400v160Zm0 220h160v-160H400v160ZM180-400h160v-160H180v160Zm440 0h160v-160H620v160ZM180-180h160v-160H180v160Zm440 0h160v-160H620v160Z\"/>\n",
              "  </svg>\n",
              "    </button>\n",
              "\n",
              "  <style>\n",
              "    .colab-df-container {\n",
              "      display:flex;\n",
              "      gap: 12px;\n",
              "    }\n",
              "\n",
              "    .colab-df-convert {\n",
              "      background-color: #E8F0FE;\n",
              "      border: none;\n",
              "      border-radius: 50%;\n",
              "      cursor: pointer;\n",
              "      display: none;\n",
              "      fill: #1967D2;\n",
              "      height: 32px;\n",
              "      padding: 0 0 0 0;\n",
              "      width: 32px;\n",
              "    }\n",
              "\n",
              "    .colab-df-convert:hover {\n",
              "      background-color: #E2EBFA;\n",
              "      box-shadow: 0px 1px 2px rgba(60, 64, 67, 0.3), 0px 1px 3px 1px rgba(60, 64, 67, 0.15);\n",
              "      fill: #174EA6;\n",
              "    }\n",
              "\n",
              "    .colab-df-buttons div {\n",
              "      margin-bottom: 4px;\n",
              "    }\n",
              "\n",
              "    [theme=dark] .colab-df-convert {\n",
              "      background-color: #3B4455;\n",
              "      fill: #D2E3FC;\n",
              "    }\n",
              "\n",
              "    [theme=dark] .colab-df-convert:hover {\n",
              "      background-color: #434B5C;\n",
              "      box-shadow: 0px 1px 3px 1px rgba(0, 0, 0, 0.15);\n",
              "      filter: drop-shadow(0px 1px 2px rgba(0, 0, 0, 0.3));\n",
              "      fill: #FFFFFF;\n",
              "    }\n",
              "  </style>\n",
              "\n",
              "    <script>\n",
              "      const buttonEl =\n",
              "        document.querySelector('#df-5aeda9b5-13ae-4a23-813c-a62b1891f1c8 button.colab-df-convert');\n",
              "      buttonEl.style.display =\n",
              "        google.colab.kernel.accessAllowed ? 'block' : 'none';\n",
              "\n",
              "      async function convertToInteractive(key) {\n",
              "        const element = document.querySelector('#df-5aeda9b5-13ae-4a23-813c-a62b1891f1c8');\n",
              "        const dataTable =\n",
              "          await google.colab.kernel.invokeFunction('convertToInteractive',\n",
              "                                                    [key], {});\n",
              "        if (!dataTable) return;\n",
              "\n",
              "        const docLinkHtml = 'Like what you see? Visit the ' +\n",
              "          '<a target=\"_blank\" href=https://colab.research.google.com/notebooks/data_table.ipynb>data table notebook</a>'\n",
              "          + ' to learn more about interactive tables.';\n",
              "        element.innerHTML = '';\n",
              "        dataTable['output_type'] = 'display_data';\n",
              "        await google.colab.output.renderOutput(dataTable, element);\n",
              "        const docLink = document.createElement('div');\n",
              "        docLink.innerHTML = docLinkHtml;\n",
              "        element.appendChild(docLink);\n",
              "      }\n",
              "    </script>\n",
              "  </div>\n",
              "\n",
              "\n",
              "<div id=\"df-40bab605-366b-49e9-bcae-056f68ca5e67\">\n",
              "  <button class=\"colab-df-quickchart\" onclick=\"quickchart('df-40bab605-366b-49e9-bcae-056f68ca5e67')\"\n",
              "            title=\"Suggest charts\"\n",
              "            style=\"display:none;\">\n",
              "\n",
              "<svg xmlns=\"http://www.w3.org/2000/svg\" height=\"24px\"viewBox=\"0 0 24 24\"\n",
              "     width=\"24px\">\n",
              "    <g>\n",
              "        <path d=\"M19 3H5c-1.1 0-2 .9-2 2v14c0 1.1.9 2 2 2h14c1.1 0 2-.9 2-2V5c0-1.1-.9-2-2-2zM9 17H7v-7h2v7zm4 0h-2V7h2v10zm4 0h-2v-4h2v4z\"/>\n",
              "    </g>\n",
              "</svg>\n",
              "  </button>\n",
              "\n",
              "<style>\n",
              "  .colab-df-quickchart {\n",
              "      --bg-color: #E8F0FE;\n",
              "      --fill-color: #1967D2;\n",
              "      --hover-bg-color: #E2EBFA;\n",
              "      --hover-fill-color: #174EA6;\n",
              "      --disabled-fill-color: #AAA;\n",
              "      --disabled-bg-color: #DDD;\n",
              "  }\n",
              "\n",
              "  [theme=dark] .colab-df-quickchart {\n",
              "      --bg-color: #3B4455;\n",
              "      --fill-color: #D2E3FC;\n",
              "      --hover-bg-color: #434B5C;\n",
              "      --hover-fill-color: #FFFFFF;\n",
              "      --disabled-bg-color: #3B4455;\n",
              "      --disabled-fill-color: #666;\n",
              "  }\n",
              "\n",
              "  .colab-df-quickchart {\n",
              "    background-color: var(--bg-color);\n",
              "    border: none;\n",
              "    border-radius: 50%;\n",
              "    cursor: pointer;\n",
              "    display: none;\n",
              "    fill: var(--fill-color);\n",
              "    height: 32px;\n",
              "    padding: 0;\n",
              "    width: 32px;\n",
              "  }\n",
              "\n",
              "  .colab-df-quickchart:hover {\n",
              "    background-color: var(--hover-bg-color);\n",
              "    box-shadow: 0 1px 2px rgba(60, 64, 67, 0.3), 0 1px 3px 1px rgba(60, 64, 67, 0.15);\n",
              "    fill: var(--button-hover-fill-color);\n",
              "  }\n",
              "\n",
              "  .colab-df-quickchart-complete:disabled,\n",
              "  .colab-df-quickchart-complete:disabled:hover {\n",
              "    background-color: var(--disabled-bg-color);\n",
              "    fill: var(--disabled-fill-color);\n",
              "    box-shadow: none;\n",
              "  }\n",
              "\n",
              "  .colab-df-spinner {\n",
              "    border: 2px solid var(--fill-color);\n",
              "    border-color: transparent;\n",
              "    border-bottom-color: var(--fill-color);\n",
              "    animation:\n",
              "      spin 1s steps(1) infinite;\n",
              "  }\n",
              "\n",
              "  @keyframes spin {\n",
              "    0% {\n",
              "      border-color: transparent;\n",
              "      border-bottom-color: var(--fill-color);\n",
              "      border-left-color: var(--fill-color);\n",
              "    }\n",
              "    20% {\n",
              "      border-color: transparent;\n",
              "      border-left-color: var(--fill-color);\n",
              "      border-top-color: var(--fill-color);\n",
              "    }\n",
              "    30% {\n",
              "      border-color: transparent;\n",
              "      border-left-color: var(--fill-color);\n",
              "      border-top-color: var(--fill-color);\n",
              "      border-right-color: var(--fill-color);\n",
              "    }\n",
              "    40% {\n",
              "      border-color: transparent;\n",
              "      border-right-color: var(--fill-color);\n",
              "      border-top-color: var(--fill-color);\n",
              "    }\n",
              "    60% {\n",
              "      border-color: transparent;\n",
              "      border-right-color: var(--fill-color);\n",
              "    }\n",
              "    80% {\n",
              "      border-color: transparent;\n",
              "      border-right-color: var(--fill-color);\n",
              "      border-bottom-color: var(--fill-color);\n",
              "    }\n",
              "    90% {\n",
              "      border-color: transparent;\n",
              "      border-bottom-color: var(--fill-color);\n",
              "    }\n",
              "  }\n",
              "</style>\n",
              "\n",
              "  <script>\n",
              "    async function quickchart(key) {\n",
              "      const quickchartButtonEl =\n",
              "        document.querySelector('#' + key + ' button');\n",
              "      quickchartButtonEl.disabled = true;  // To prevent multiple clicks.\n",
              "      quickchartButtonEl.classList.add('colab-df-spinner');\n",
              "      try {\n",
              "        const charts = await google.colab.kernel.invokeFunction(\n",
              "            'suggestCharts', [key], {});\n",
              "      } catch (error) {\n",
              "        console.error('Error during call to suggestCharts:', error);\n",
              "      }\n",
              "      quickchartButtonEl.classList.remove('colab-df-spinner');\n",
              "      quickchartButtonEl.classList.add('colab-df-quickchart-complete');\n",
              "    }\n",
              "    (() => {\n",
              "      let quickchartButtonEl =\n",
              "        document.querySelector('#df-40bab605-366b-49e9-bcae-056f68ca5e67 button');\n",
              "      quickchartButtonEl.style.display =\n",
              "        google.colab.kernel.accessAllowed ? 'block' : 'none';\n",
              "    })();\n",
              "  </script>\n",
              "</div>\n",
              "\n",
              "    </div>\n",
              "  </div>\n"
            ],
            "application/vnd.google.colaboratory.intrinsic+json": {
              "type": "dataframe",
              "summary": "{\n  \"name\": \"data[['rate_comment','rate_sentiscore']]\",\n  \"rows\": 959,\n  \"fields\": [\n    {\n      \"column\": \"rate_comment\",\n      \"properties\": {\n        \"dtype\": \"string\",\n        \"num_unique_values\": 897,\n        \"samples\": [\n          \"\\uc0bc\\uc131\\uc804\\uc790, \\u20182024 \\ub3d9\\ub0a8\\uc544 \\ud14c\\ud06c \\uc138\\ubbf8\\ub098\\u2019\\uc11c AI TV \\ud575\\uc2ec \\uae30\\uc220 \\uacfc\\uc2dc\",\n          \"\\uc0bc\\uc131\\uc804\\uc790, \\ubd04 \\ub9de\\uc544 \\u2018\\ube44\\uc2a4\\ud3ec\\ud06c AI \\ucf64\\ubcf4\\u2019 \\uc2e0\\uaddc \\uceec\\ub7ec \\ucd9c\\uc2dc\",\n          \"\\uc0bc\\uc131\\uc804\\uc790, '2024 \\ub3d9\\ub0a8\\uc544\\uc2dc\\uc544 \\ud14c\\ud06c \\uc138\\ubbf8\\ub098'\\uc5d0\\uc11c AI TV \\ud575\\uc2ec \\uae30\\uc220\\ub825 \\uc120\\ubcf4\\uc5ec\"\n        ],\n        \"semantic_type\": \"\",\n        \"description\": \"\"\n      }\n    },\n    {\n      \"column\": \"rate_sentiscore\",\n      \"properties\": {\n        \"dtype\": \"number\",\n        \"std\": 0.863818381705938,\n        \"min\": -2.0,\n        \"max\": 5.0,\n        \"num_unique_values\": 8,\n        \"samples\": [\n          1.0,\n          -2.0,\n          -1.0\n        ],\n        \"semantic_type\": \"\",\n        \"description\": \"\"\n      }\n    }\n  ]\n}"
            }
          },
          "metadata": {},
          "execution_count": 125
        }
      ]
    },
    {
      "cell_type": "code",
      "source": [
        "data['rate_sentiscore'].mean()"
      ],
      "metadata": {
        "colab": {
          "base_uri": "https://localhost:8080/"
        },
        "id": "tW6v1zV0m8zJ",
        "outputId": "07e8ce80-5a9a-41e0-efc0-0d952d5cd900"
      },
      "execution_count": 124,
      "outputs": [
        {
          "output_type": "execute_result",
          "data": {
            "text/plain": [
              "0.32638164754953075"
            ]
          },
          "metadata": {},
          "execution_count": 124
        }
      ]
    },
    {
      "cell_type": "code",
      "source": [],
      "metadata": {
        "id": "YVw6dFi5oydq"
      },
      "execution_count": null,
      "outputs": []
    },
    {
      "cell_type": "code",
      "source": [],
      "metadata": {
        "id": "Eo2u9tDboyXs"
      },
      "execution_count": null,
      "outputs": []
    },
    {
      "cell_type": "markdown",
      "source": [
        "### Additional Notes. Add Personal Words to Sentiment Dictionary"
      ],
      "metadata": {
        "id": "4ZQZvhzPmij1"
      }
    },
    {
      "cell_type": "code",
      "source": [
        "# \"재미있다\"의 점수는 2.0으로 있는데, \"재밌다\"의 점수는 입력되지 않아서 0으로 나오는 상황\n",
        "sentiment_score('재미있다'), sentiment_score('재밌다')"
      ],
      "metadata": {
        "colab": {
          "base_uri": "https://localhost:8080/"
        },
        "id": "ymqIzdc9kLpV",
        "outputId": "45b4ca03-8252-406e-beca-04669da7dafc"
      },
      "execution_count": null,
      "outputs": [
        {
          "output_type": "execute_result",
          "data": {
            "text/plain": [
              "(2.0, 0)"
            ]
          },
          "metadata": {},
          "execution_count": 24
        }
      ]
    },
    {
      "cell_type": "code",
      "source": [
        "# dictionary에 '재밌다'를 찾아보면 없는 단어기 때문에 Error message가 뜸\n",
        "dict_dictionary['재밌다']"
      ],
      "metadata": {
        "colab": {
          "base_uri": "https://localhost:8080/",
          "height": 141
        },
        "id": "A0fmodhGoD_S",
        "outputId": "a314a5d3-5d17-4c16-c7c5-ce149f18b7b2"
      },
      "execution_count": null,
      "outputs": [
        {
          "output_type": "error",
          "ename": "KeyError",
          "evalue": "'재밌다'",
          "traceback": [
            "\u001b[0;31m---------------------------------------------------------------------------\u001b[0m",
            "\u001b[0;31mKeyError\u001b[0m                                  Traceback (most recent call last)",
            "\u001b[0;32m<ipython-input-25-c9506dc61efb>\u001b[0m in \u001b[0;36m<cell line: 1>\u001b[0;34m()\u001b[0m\n\u001b[0;32m----> 1\u001b[0;31m \u001b[0mdict_dictionary\u001b[0m\u001b[0;34m[\u001b[0m\u001b[0;34m'재밌다'\u001b[0m\u001b[0;34m]\u001b[0m\u001b[0;34m\u001b[0m\u001b[0;34m\u001b[0m\u001b[0m\n\u001b[0m",
            "\u001b[0;31mKeyError\u001b[0m: '재밌다'"
          ]
        }
      ]
    },
    {
      "cell_type": "code",
      "source": [
        "# 다시 계산해 보면 입력한 대로 2.0이 나옵니다.\n",
        "sentiment_score('재미있다'), sentiment_score('재밌다')"
      ],
      "metadata": {
        "colab": {
          "base_uri": "https://localhost:8080/"
        },
        "id": "31QzXTajocCr",
        "outputId": "c3bac08b-5533-4eb6-d5da-ca8ce108e0df"
      },
      "execution_count": null,
      "outputs": [
        {
          "output_type": "execute_result",
          "data": {
            "text/plain": [
              "(2.0, 2.0)"
            ]
          },
          "metadata": {},
          "execution_count": 28
        }
      ]
    },
    {
      "cell_type": "code",
      "source": [
        "data['rate_sentiscore'] = data['rate_comment_rm_lm'].apply(lambda x: sentiment_scores(x))\n",
        "data[['rate_comment', 'rate_sentiscore']].head(3)"
      ],
      "metadata": {
        "colab": {
          "base_uri": "https://localhost:8080/",
          "height": 143
        },
        "id": "NySPaZbJkLjr",
        "outputId": "52ec3395-21f5-40de-b282-9602d331d35f"
      },
      "execution_count": null,
      "outputs": [
        {
          "output_type": "execute_result",
          "data": {
            "text/plain": [
              "                                        rate_comment  rate_sentiscore\n",
              "0                                       너무 재밌어서 소름돋음              0.0\n",
              "1                                  이도현 그래서 제대가 언제라고?              0.0\n",
              "2  최민식은 역시 최민식이도현은 지금껏 가장 멋있었고김고은의 굿 연기는 현대적 감각이 ...              2.0"
            ],
            "text/html": [
              "\n",
              "  <div id=\"df-d463dab7-3d6a-4c5f-9356-5ff9239f9e3a\" class=\"colab-df-container\">\n",
              "    <div>\n",
              "<style scoped>\n",
              "    .dataframe tbody tr th:only-of-type {\n",
              "        vertical-align: middle;\n",
              "    }\n",
              "\n",
              "    .dataframe tbody tr th {\n",
              "        vertical-align: top;\n",
              "    }\n",
              "\n",
              "    .dataframe thead th {\n",
              "        text-align: right;\n",
              "    }\n",
              "</style>\n",
              "<table border=\"1\" class=\"dataframe\">\n",
              "  <thead>\n",
              "    <tr style=\"text-align: right;\">\n",
              "      <th></th>\n",
              "      <th>rate_comment</th>\n",
              "      <th>rate_sentiscore</th>\n",
              "    </tr>\n",
              "  </thead>\n",
              "  <tbody>\n",
              "    <tr>\n",
              "      <th>0</th>\n",
              "      <td>너무 재밌어서 소름돋음</td>\n",
              "      <td>0.0</td>\n",
              "    </tr>\n",
              "    <tr>\n",
              "      <th>1</th>\n",
              "      <td>이도현 그래서 제대가 언제라고?</td>\n",
              "      <td>0.0</td>\n",
              "    </tr>\n",
              "    <tr>\n",
              "      <th>2</th>\n",
              "      <td>최민식은 역시 최민식이도현은 지금껏 가장 멋있었고김고은의 굿 연기는 현대적 감각이 ...</td>\n",
              "      <td>2.0</td>\n",
              "    </tr>\n",
              "  </tbody>\n",
              "</table>\n",
              "</div>\n",
              "    <div class=\"colab-df-buttons\">\n",
              "\n",
              "  <div class=\"colab-df-container\">\n",
              "    <button class=\"colab-df-convert\" onclick=\"convertToInteractive('df-d463dab7-3d6a-4c5f-9356-5ff9239f9e3a')\"\n",
              "            title=\"Convert this dataframe to an interactive table.\"\n",
              "            style=\"display:none;\">\n",
              "\n",
              "  <svg xmlns=\"http://www.w3.org/2000/svg\" height=\"24px\" viewBox=\"0 -960 960 960\">\n",
              "    <path d=\"M120-120v-720h720v720H120Zm60-500h600v-160H180v160Zm220 220h160v-160H400v160Zm0 220h160v-160H400v160ZM180-400h160v-160H180v160Zm440 0h160v-160H620v160ZM180-180h160v-160H180v160Zm440 0h160v-160H620v160Z\"/>\n",
              "  </svg>\n",
              "    </button>\n",
              "\n",
              "  <style>\n",
              "    .colab-df-container {\n",
              "      display:flex;\n",
              "      gap: 12px;\n",
              "    }\n",
              "\n",
              "    .colab-df-convert {\n",
              "      background-color: #E8F0FE;\n",
              "      border: none;\n",
              "      border-radius: 50%;\n",
              "      cursor: pointer;\n",
              "      display: none;\n",
              "      fill: #1967D2;\n",
              "      height: 32px;\n",
              "      padding: 0 0 0 0;\n",
              "      width: 32px;\n",
              "    }\n",
              "\n",
              "    .colab-df-convert:hover {\n",
              "      background-color: #E2EBFA;\n",
              "      box-shadow: 0px 1px 2px rgba(60, 64, 67, 0.3), 0px 1px 3px 1px rgba(60, 64, 67, 0.15);\n",
              "      fill: #174EA6;\n",
              "    }\n",
              "\n",
              "    .colab-df-buttons div {\n",
              "      margin-bottom: 4px;\n",
              "    }\n",
              "\n",
              "    [theme=dark] .colab-df-convert {\n",
              "      background-color: #3B4455;\n",
              "      fill: #D2E3FC;\n",
              "    }\n",
              "\n",
              "    [theme=dark] .colab-df-convert:hover {\n",
              "      background-color: #434B5C;\n",
              "      box-shadow: 0px 1px 3px 1px rgba(0, 0, 0, 0.15);\n",
              "      filter: drop-shadow(0px 1px 2px rgba(0, 0, 0, 0.3));\n",
              "      fill: #FFFFFF;\n",
              "    }\n",
              "  </style>\n",
              "\n",
              "    <script>\n",
              "      const buttonEl =\n",
              "        document.querySelector('#df-d463dab7-3d6a-4c5f-9356-5ff9239f9e3a button.colab-df-convert');\n",
              "      buttonEl.style.display =\n",
              "        google.colab.kernel.accessAllowed ? 'block' : 'none';\n",
              "\n",
              "      async function convertToInteractive(key) {\n",
              "        const element = document.querySelector('#df-d463dab7-3d6a-4c5f-9356-5ff9239f9e3a');\n",
              "        const dataTable =\n",
              "          await google.colab.kernel.invokeFunction('convertToInteractive',\n",
              "                                                    [key], {});\n",
              "        if (!dataTable) return;\n",
              "\n",
              "        const docLinkHtml = 'Like what you see? Visit the ' +\n",
              "          '<a target=\"_blank\" href=https://colab.research.google.com/notebooks/data_table.ipynb>data table notebook</a>'\n",
              "          + ' to learn more about interactive tables.';\n",
              "        element.innerHTML = '';\n",
              "        dataTable['output_type'] = 'display_data';\n",
              "        await google.colab.output.renderOutput(dataTable, element);\n",
              "        const docLink = document.createElement('div');\n",
              "        docLink.innerHTML = docLinkHtml;\n",
              "        element.appendChild(docLink);\n",
              "      }\n",
              "    </script>\n",
              "  </div>\n",
              "\n",
              "\n",
              "<div id=\"df-22be5c2a-d8cb-4071-a1c0-846fdc1c45c9\">\n",
              "  <button class=\"colab-df-quickchart\" onclick=\"quickchart('df-22be5c2a-d8cb-4071-a1c0-846fdc1c45c9')\"\n",
              "            title=\"Suggest charts\"\n",
              "            style=\"display:none;\">\n",
              "\n",
              "<svg xmlns=\"http://www.w3.org/2000/svg\" height=\"24px\"viewBox=\"0 0 24 24\"\n",
              "     width=\"24px\">\n",
              "    <g>\n",
              "        <path d=\"M19 3H5c-1.1 0-2 .9-2 2v14c0 1.1.9 2 2 2h14c1.1 0 2-.9 2-2V5c0-1.1-.9-2-2-2zM9 17H7v-7h2v7zm4 0h-2V7h2v10zm4 0h-2v-4h2v4z\"/>\n",
              "    </g>\n",
              "</svg>\n",
              "  </button>\n",
              "\n",
              "<style>\n",
              "  .colab-df-quickchart {\n",
              "      --bg-color: #E8F0FE;\n",
              "      --fill-color: #1967D2;\n",
              "      --hover-bg-color: #E2EBFA;\n",
              "      --hover-fill-color: #174EA6;\n",
              "      --disabled-fill-color: #AAA;\n",
              "      --disabled-bg-color: #DDD;\n",
              "  }\n",
              "\n",
              "  [theme=dark] .colab-df-quickchart {\n",
              "      --bg-color: #3B4455;\n",
              "      --fill-color: #D2E3FC;\n",
              "      --hover-bg-color: #434B5C;\n",
              "      --hover-fill-color: #FFFFFF;\n",
              "      --disabled-bg-color: #3B4455;\n",
              "      --disabled-fill-color: #666;\n",
              "  }\n",
              "\n",
              "  .colab-df-quickchart {\n",
              "    background-color: var(--bg-color);\n",
              "    border: none;\n",
              "    border-radius: 50%;\n",
              "    cursor: pointer;\n",
              "    display: none;\n",
              "    fill: var(--fill-color);\n",
              "    height: 32px;\n",
              "    padding: 0;\n",
              "    width: 32px;\n",
              "  }\n",
              "\n",
              "  .colab-df-quickchart:hover {\n",
              "    background-color: var(--hover-bg-color);\n",
              "    box-shadow: 0 1px 2px rgba(60, 64, 67, 0.3), 0 1px 3px 1px rgba(60, 64, 67, 0.15);\n",
              "    fill: var(--button-hover-fill-color);\n",
              "  }\n",
              "\n",
              "  .colab-df-quickchart-complete:disabled,\n",
              "  .colab-df-quickchart-complete:disabled:hover {\n",
              "    background-color: var(--disabled-bg-color);\n",
              "    fill: var(--disabled-fill-color);\n",
              "    box-shadow: none;\n",
              "  }\n",
              "\n",
              "  .colab-df-spinner {\n",
              "    border: 2px solid var(--fill-color);\n",
              "    border-color: transparent;\n",
              "    border-bottom-color: var(--fill-color);\n",
              "    animation:\n",
              "      spin 1s steps(1) infinite;\n",
              "  }\n",
              "\n",
              "  @keyframes spin {\n",
              "    0% {\n",
              "      border-color: transparent;\n",
              "      border-bottom-color: var(--fill-color);\n",
              "      border-left-color: var(--fill-color);\n",
              "    }\n",
              "    20% {\n",
              "      border-color: transparent;\n",
              "      border-left-color: var(--fill-color);\n",
              "      border-top-color: var(--fill-color);\n",
              "    }\n",
              "    30% {\n",
              "      border-color: transparent;\n",
              "      border-left-color: var(--fill-color);\n",
              "      border-top-color: var(--fill-color);\n",
              "      border-right-color: var(--fill-color);\n",
              "    }\n",
              "    40% {\n",
              "      border-color: transparent;\n",
              "      border-right-color: var(--fill-color);\n",
              "      border-top-color: var(--fill-color);\n",
              "    }\n",
              "    60% {\n",
              "      border-color: transparent;\n",
              "      border-right-color: var(--fill-color);\n",
              "    }\n",
              "    80% {\n",
              "      border-color: transparent;\n",
              "      border-right-color: var(--fill-color);\n",
              "      border-bottom-color: var(--fill-color);\n",
              "    }\n",
              "    90% {\n",
              "      border-color: transparent;\n",
              "      border-bottom-color: var(--fill-color);\n",
              "    }\n",
              "  }\n",
              "</style>\n",
              "\n",
              "  <script>\n",
              "    async function quickchart(key) {\n",
              "      const quickchartButtonEl =\n",
              "        document.querySelector('#' + key + ' button');\n",
              "      quickchartButtonEl.disabled = true;  // To prevent multiple clicks.\n",
              "      quickchartButtonEl.classList.add('colab-df-spinner');\n",
              "      try {\n",
              "        const charts = await google.colab.kernel.invokeFunction(\n",
              "            'suggestCharts', [key], {});\n",
              "      } catch (error) {\n",
              "        console.error('Error during call to suggestCharts:', error);\n",
              "      }\n",
              "      quickchartButtonEl.classList.remove('colab-df-spinner');\n",
              "      quickchartButtonEl.classList.add('colab-df-quickchart-complete');\n",
              "    }\n",
              "    (() => {\n",
              "      let quickchartButtonEl =\n",
              "        document.querySelector('#df-22be5c2a-d8cb-4071-a1c0-846fdc1c45c9 button');\n",
              "      quickchartButtonEl.style.display =\n",
              "        google.colab.kernel.accessAllowed ? 'block' : 'none';\n",
              "    })();\n",
              "  </script>\n",
              "</div>\n",
              "\n",
              "    </div>\n",
              "  </div>\n"
            ],
            "application/vnd.google.colaboratory.intrinsic+json": {
              "type": "dataframe",
              "summary": "{\n  \"name\": \"data[['rate_comment', 'rate_sentiscore']]\",\n  \"rows\": 3,\n  \"fields\": [\n    {\n      \"column\": \"rate_comment\",\n      \"properties\": {\n        \"dtype\": \"string\",\n        \"num_unique_values\": 3,\n        \"samples\": [\n          \"\\ub108\\ubb34 \\uc7ac\\ubc0c\\uc5b4\\uc11c \\uc18c\\ub984\\ub3cb\\uc74c\",\n          \"\\uc774\\ub3c4\\ud604 \\uadf8\\ub798\\uc11c \\uc81c\\ub300\\uac00 \\uc5b8\\uc81c\\ub77c\\uace0?\",\n          \"\\ucd5c\\ubbfc\\uc2dd\\uc740 \\uc5ed\\uc2dc \\ucd5c\\ubbfc\\uc2dd\\uc774\\ub3c4\\ud604\\uc740 \\uc9c0\\uae08\\uaecf \\uac00\\uc7a5 \\uba4b\\uc788\\uc5c8\\uace0\\uae40\\uace0\\uc740\\uc758 \\uad7f \\uc5f0\\uae30\\ub294 \\ud604\\ub300\\uc801 \\uac10\\uac01\\uc774 \\ub354 \\ud574\\uc838 \\uc88b\\uc558\\uc74c\\uae40\\ubbfc\\uc900\\ub3c4 \\uba4b\\uc9d03.1\\uc808\\uc5d0 \\ubcf8 \\uc601\\ud654\\uad6d\\ubf55\\uc774\\ub77c\\ub3c4 \\uc0c1\\uad00\\uc5c6\\ub2e4.\\ubc18\\uc77c\\uc138\\ub825\\uc774 \\ubb50\\uac00 \\uc798\\ubabb\\uc774\\ub0d0\\uce5c\\uc77c\\uc774 \\uc798\\ubabb\\uc774\\uc9c0.\"\n        ],\n        \"semantic_type\": \"\",\n        \"description\": \"\"\n      }\n    },\n    {\n      \"column\": \"rate_sentiscore\",\n      \"properties\": {\n        \"dtype\": \"number\",\n        \"std\": 1.1547005383792517,\n        \"min\": 0.0,\n        \"max\": 2.0,\n        \"num_unique_values\": 2,\n        \"samples\": [\n          2.0,\n          0.0\n        ],\n        \"semantic_type\": \"\",\n        \"description\": \"\"\n      }\n    }\n  ]\n}"
            }
          },
          "metadata": {},
          "execution_count": 42
        }
      ]
    }
  ]
}